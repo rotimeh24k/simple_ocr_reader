{
 "cells": [
  {
   "cell_type": "code",
   "execution_count": 1,
   "metadata": {
    "colab": {
     "base_uri": "https://localhost:8080/"
    },
    "executionInfo": {
     "elapsed": 112,
     "status": "ok",
     "timestamp": 1741338960321,
     "user": {
      "displayName": "Hail Roh",
      "userId": "16124858793382778839"
     },
     "user_tz": -540
    },
    "id": "5c6b26DHW5o3",
    "outputId": "4f1fb0b9-210b-467c-9999-94e97c69234b"
   },
   "outputs": [
    {
     "name": "stdout",
     "output_type": "stream",
     "text": [
      "Python 3.11.11\n"
     ]
    }
   ],
   "source": [
    "!python --version"
   ]
  },
  {
   "cell_type": "code",
   "execution_count": 6,
   "metadata": {
    "colab": {
     "base_uri": "https://localhost:8080/"
    },
    "collapsed": true,
    "executionInfo": {
     "elapsed": 67705,
     "status": "ok",
     "timestamp": 1741416989171,
     "user": {
      "displayName": "Hail Roh",
      "userId": "16124858793382778839"
     },
     "user_tz": -540
    },
    "id": "p0EPu9xrX32Q",
    "outputId": "78e67745-be19-4336-e456-351fdd141db2"
   },
   "outputs": [
    {
     "name": "stdout",
     "output_type": "stream",
     "text": [
      "Collecting paddlepaddle-gpu\n",
      "  Downloading paddlepaddle_gpu-2.6.2-cp311-cp311-manylinux1_x86_64.whl.metadata (8.6 kB)\n",
      "Requirement already satisfied: httpx in /usr/local/lib/python3.11/dist-packages (from paddlepaddle-gpu) (0.28.1)\n",
      "Requirement already satisfied: numpy>=1.13 in /usr/local/lib/python3.11/dist-packages (from paddlepaddle-gpu) (1.26.4)\n",
      "Requirement already satisfied: Pillow in /usr/local/lib/python3.11/dist-packages (from paddlepaddle-gpu) (11.1.0)\n",
      "Requirement already satisfied: decorator in /usr/local/lib/python3.11/dist-packages (from paddlepaddle-gpu) (4.4.2)\n",
      "Collecting astor (from paddlepaddle-gpu)\n",
      "  Downloading astor-0.8.1-py2.py3-none-any.whl.metadata (4.2 kB)\n",
      "Collecting opt-einsum==3.3.0 (from paddlepaddle-gpu)\n",
      "  Downloading opt_einsum-3.3.0-py3-none-any.whl.metadata (6.5 kB)\n",
      "Requirement already satisfied: protobuf>=3.20.2 in /usr/local/lib/python3.11/dist-packages (from paddlepaddle-gpu) (4.25.6)\n",
      "Requirement already satisfied: anyio in /usr/local/lib/python3.11/dist-packages (from httpx->paddlepaddle-gpu) (3.7.1)\n",
      "Requirement already satisfied: certifi in /usr/local/lib/python3.11/dist-packages (from httpx->paddlepaddle-gpu) (2025.1.31)\n",
      "Requirement already satisfied: httpcore==1.* in /usr/local/lib/python3.11/dist-packages (from httpx->paddlepaddle-gpu) (1.0.7)\n",
      "Requirement already satisfied: idna in /usr/local/lib/python3.11/dist-packages (from httpx->paddlepaddle-gpu) (3.10)\n",
      "Requirement already satisfied: h11<0.15,>=0.13 in /usr/local/lib/python3.11/dist-packages (from httpcore==1.*->httpx->paddlepaddle-gpu) (0.14.0)\n",
      "Requirement already satisfied: sniffio>=1.1 in /usr/local/lib/python3.11/dist-packages (from anyio->httpx->paddlepaddle-gpu) (1.3.1)\n",
      "Downloading paddlepaddle_gpu-2.6.2-cp311-cp311-manylinux1_x86_64.whl (759.0 MB)\n",
      "\u001b[2K   \u001b[90m━━━━━━━━━━━━━━━━━━━━━━━━━━━━━━━━━━━━━━━━\u001b[0m \u001b[32m759.0/759.0 MB\u001b[0m \u001b[31m2.4 MB/s\u001b[0m eta \u001b[36m0:00:00\u001b[0m\n",
      "\u001b[?25hDownloading opt_einsum-3.3.0-py3-none-any.whl (65 kB)\n",
      "\u001b[2K   \u001b[90m━━━━━━━━━━━━━━━━━━━━━━━━━━━━━━━━━━━━━━━━\u001b[0m \u001b[32m65.5/65.5 kB\u001b[0m \u001b[31m3.9 MB/s\u001b[0m eta \u001b[36m0:00:00\u001b[0m\n",
      "\u001b[?25hDownloading astor-0.8.1-py2.py3-none-any.whl (27 kB)\n",
      "Installing collected packages: opt-einsum, astor, paddlepaddle-gpu\n",
      "  Attempting uninstall: opt-einsum\n",
      "    Found existing installation: opt_einsum 3.4.0\n",
      "    Uninstalling opt_einsum-3.4.0:\n",
      "      Successfully uninstalled opt_einsum-3.4.0\n",
      "Successfully installed astor-0.8.1 opt-einsum-3.3.0 paddlepaddle-gpu-2.6.2\n",
      "Collecting paddleocr\n",
      "  Downloading paddleocr-2.10.0-py3-none-any.whl.metadata (12 kB)\n",
      "Requirement already satisfied: shapely in /usr/local/lib/python3.11/dist-packages (from paddleocr) (2.0.7)\n",
      "Requirement already satisfied: scikit-image in /usr/local/lib/python3.11/dist-packages (from paddleocr) (0.25.2)\n",
      "Collecting pyclipper (from paddleocr)\n",
      "  Downloading pyclipper-1.3.0.post6-cp311-cp311-manylinux_2_17_x86_64.manylinux2014_x86_64.whl.metadata (9.0 kB)\n",
      "Collecting lmdb (from paddleocr)\n",
      "  Downloading lmdb-1.6.2-cp311-cp311-manylinux_2_17_x86_64.manylinux2014_x86_64.whl.metadata (1.1 kB)\n",
      "Requirement already satisfied: tqdm in /usr/local/lib/python3.11/dist-packages (from paddleocr) (4.67.1)\n",
      "Requirement already satisfied: numpy in /usr/local/lib/python3.11/dist-packages (from paddleocr) (1.26.4)\n",
      "Collecting rapidfuzz (from paddleocr)\n",
      "  Downloading rapidfuzz-3.12.2-cp311-cp311-manylinux_2_17_x86_64.manylinux2014_x86_64.whl.metadata (12 kB)\n",
      "Requirement already satisfied: opencv-python in /usr/local/lib/python3.11/dist-packages (from paddleocr) (4.11.0.86)\n",
      "Requirement already satisfied: opencv-contrib-python in /usr/local/lib/python3.11/dist-packages (from paddleocr) (4.11.0.86)\n",
      "Requirement already satisfied: cython in /usr/local/lib/python3.11/dist-packages (from paddleocr) (3.0.12)\n",
      "Requirement already satisfied: Pillow in /usr/local/lib/python3.11/dist-packages (from paddleocr) (11.1.0)\n",
      "Requirement already satisfied: pyyaml in /usr/local/lib/python3.11/dist-packages (from paddleocr) (6.0.2)\n",
      "Collecting python-docx (from paddleocr)\n",
      "  Downloading python_docx-1.1.2-py3-none-any.whl.metadata (2.0 kB)\n",
      "Requirement already satisfied: beautifulsoup4 in /usr/local/lib/python3.11/dist-packages (from paddleocr) (4.13.3)\n",
      "Requirement already satisfied: fonttools>=4.24.0 in /usr/local/lib/python3.11/dist-packages (from paddleocr) (4.56.0)\n",
      "Collecting fire>=0.3.0 (from paddleocr)\n",
      "  Downloading fire-0.7.0.tar.gz (87 kB)\n",
      "\u001b[2K     \u001b[90m━━━━━━━━━━━━━━━━━━━━━━━━━━━━━━━━━━━━━━━━\u001b[0m \u001b[32m87.2/87.2 kB\u001b[0m \u001b[31m3.2 MB/s\u001b[0m eta \u001b[36m0:00:00\u001b[0m\n",
      "\u001b[?25h  Preparing metadata (setup.py) ... \u001b[?25l\u001b[?25hdone\n",
      "Requirement already satisfied: requests in /usr/local/lib/python3.11/dist-packages (from paddleocr) (2.32.3)\n",
      "Requirement already satisfied: albumentations in /usr/local/lib/python3.11/dist-packages (from paddleocr) (2.0.5)\n",
      "Requirement already satisfied: albucore in /usr/local/lib/python3.11/dist-packages (from paddleocr) (0.0.23)\n",
      "Requirement already satisfied: termcolor in /usr/local/lib/python3.11/dist-packages (from fire>=0.3.0->paddleocr) (2.5.0)\n",
      "Requirement already satisfied: stringzilla>=3.10.4 in /usr/local/lib/python3.11/dist-packages (from albucore->paddleocr) (3.12.2)\n",
      "Requirement already satisfied: simsimd>=5.9.2 in /usr/local/lib/python3.11/dist-packages (from albucore->paddleocr) (6.2.1)\n",
      "Requirement already satisfied: opencv-python-headless>=4.9.0.80 in /usr/local/lib/python3.11/dist-packages (from albucore->paddleocr) (4.11.0.86)\n",
      "Requirement already satisfied: scipy>=1.10.0 in /usr/local/lib/python3.11/dist-packages (from albumentations->paddleocr) (1.13.1)\n",
      "Requirement already satisfied: pydantic>=2.9.2 in /usr/local/lib/python3.11/dist-packages (from albumentations->paddleocr) (2.10.6)\n",
      "Requirement already satisfied: soupsieve>1.2 in /usr/local/lib/python3.11/dist-packages (from beautifulsoup4->paddleocr) (2.6)\n",
      "Requirement already satisfied: typing-extensions>=4.0.0 in /usr/local/lib/python3.11/dist-packages (from beautifulsoup4->paddleocr) (4.12.2)\n",
      "Requirement already satisfied: lxml>=3.1.0 in /usr/local/lib/python3.11/dist-packages (from python-docx->paddleocr) (5.3.1)\n",
      "Requirement already satisfied: charset-normalizer<4,>=2 in /usr/local/lib/python3.11/dist-packages (from requests->paddleocr) (3.4.1)\n",
      "Requirement already satisfied: idna<4,>=2.5 in /usr/local/lib/python3.11/dist-packages (from requests->paddleocr) (3.10)\n",
      "Requirement already satisfied: urllib3<3,>=1.21.1 in /usr/local/lib/python3.11/dist-packages (from requests->paddleocr) (2.3.0)\n",
      "Requirement already satisfied: certifi>=2017.4.17 in /usr/local/lib/python3.11/dist-packages (from requests->paddleocr) (2025.1.31)\n",
      "Requirement already satisfied: networkx>=3.0 in /usr/local/lib/python3.11/dist-packages (from scikit-image->paddleocr) (3.4.2)\n",
      "Requirement already satisfied: imageio!=2.35.0,>=2.33 in /usr/local/lib/python3.11/dist-packages (from scikit-image->paddleocr) (2.37.0)\n",
      "Requirement already satisfied: tifffile>=2022.8.12 in /usr/local/lib/python3.11/dist-packages (from scikit-image->paddleocr) (2025.2.18)\n",
      "Requirement already satisfied: packaging>=21 in /usr/local/lib/python3.11/dist-packages (from scikit-image->paddleocr) (24.2)\n",
      "Requirement already satisfied: lazy-loader>=0.4 in /usr/local/lib/python3.11/dist-packages (from scikit-image->paddleocr) (0.4)\n",
      "Requirement already satisfied: annotated-types>=0.6.0 in /usr/local/lib/python3.11/dist-packages (from pydantic>=2.9.2->albumentations->paddleocr) (0.7.0)\n",
      "Requirement already satisfied: pydantic-core==2.27.2 in /usr/local/lib/python3.11/dist-packages (from pydantic>=2.9.2->albumentations->paddleocr) (2.27.2)\n",
      "Downloading paddleocr-2.10.0-py3-none-any.whl (2.4 MB)\n",
      "\u001b[2K   \u001b[90m━━━━━━━━━━━━━━━━━━━━━━━━━━━━━━━━━━━━━━━━\u001b[0m \u001b[32m2.4/2.4 MB\u001b[0m \u001b[31m18.0 MB/s\u001b[0m eta \u001b[36m0:00:00\u001b[0m\n",
      "\u001b[?25hDownloading lmdb-1.6.2-cp311-cp311-manylinux_2_17_x86_64.manylinux2014_x86_64.whl (297 kB)\n",
      "\u001b[2K   \u001b[90m━━━━━━━━━━━━━━━━━━━━━━━━━━━━━━━━━━━━━━━━\u001b[0m \u001b[32m297.8/297.8 kB\u001b[0m \u001b[31m19.2 MB/s\u001b[0m eta \u001b[36m0:00:00\u001b[0m\n",
      "\u001b[?25hDownloading pyclipper-1.3.0.post6-cp311-cp311-manylinux_2_17_x86_64.manylinux2014_x86_64.whl (969 kB)\n",
      "\u001b[2K   \u001b[90m━━━━━━━━━━━━━━━━━━━━━━━━━━━━━━━━━━━━━━━━\u001b[0m \u001b[32m969.6/969.6 kB\u001b[0m \u001b[31m37.0 MB/s\u001b[0m eta \u001b[36m0:00:00\u001b[0m\n",
      "\u001b[?25hDownloading python_docx-1.1.2-py3-none-any.whl (244 kB)\n",
      "\u001b[2K   \u001b[90m━━━━━━━━━━━━━━━━━━━━━━━━━━━━━━━━━━━━━━━━\u001b[0m \u001b[32m244.3/244.3 kB\u001b[0m \u001b[31m13.5 MB/s\u001b[0m eta \u001b[36m0:00:00\u001b[0m\n",
      "\u001b[?25hDownloading rapidfuzz-3.12.2-cp311-cp311-manylinux_2_17_x86_64.manylinux2014_x86_64.whl (3.1 MB)\n",
      "\u001b[2K   \u001b[90m━━━━━━━━━━━━━━━━━━━━━━━━━━━━━━━━━━━━━━━━\u001b[0m \u001b[32m3.1/3.1 MB\u001b[0m \u001b[31m47.3 MB/s\u001b[0m eta \u001b[36m0:00:00\u001b[0m\n",
      "\u001b[?25hBuilding wheels for collected packages: fire\n",
      "  Building wheel for fire (setup.py) ... \u001b[?25l\u001b[?25hdone\n",
      "  Created wheel for fire: filename=fire-0.7.0-py3-none-any.whl size=114249 sha256=b9fc8b68007fb7051c4b172bfe56b366f78498cd8317f935b6c858ad6bd20b2a\n",
      "  Stored in directory: /root/.cache/pip/wheels/46/54/24/1624fd5b8674eb1188623f7e8e17cdf7c0f6c24b609dfb8a89\n",
      "Successfully built fire\n",
      "Installing collected packages: pyclipper, lmdb, rapidfuzz, python-docx, fire, paddleocr\n",
      "Successfully installed fire-0.7.0 lmdb-1.6.2 paddleocr-2.10.0 pyclipper-1.3.0.post6 python-docx-1.1.2 rapidfuzz-3.12.2\n"
     ]
    }
   ],
   "source": [
    "!pip install paddlepaddle-gpu\n",
    "!pip install paddleocr"
   ]
  },
  {
   "cell_type": "code",
   "execution_count": 1,
   "metadata": {
    "colab": {
     "base_uri": "https://localhost:8080/"
    },
    "executionInfo": {
     "elapsed": 88134,
     "status": "ok",
     "timestamp": 1741417446604,
     "user": {
      "displayName": "Hail Roh",
      "userId": "16124858793382778839"
     },
     "user_tz": -540
    },
    "id": "k9_am9xW2Xcl",
    "outputId": "0a3df14e-5dde-4100-8dea-a2c107739642"
   },
   "outputs": [
    {
     "name": "stdout",
     "output_type": "stream",
     "text": [
      "Cloning into 'PaddleOCR'...\n",
      "remote: Enumerating objects: 126732, done.\u001b[K\n",
      "remote: Counting objects: 100% (8308/8308), done.\u001b[K\n",
      "remote: Compressing objects: 100% (925/925), done.\u001b[K\n",
      "remote: Total 126732 (delta 7907), reused 7545 (delta 7383), pack-reused 118424 (from 3)\u001b[K\n",
      "Receiving objects: 100% (126732/126732), 760.32 MiB | 23.22 MiB/s, done.\n",
      "Resolving deltas: 100% (98264/98264), done.\n",
      "Updating files: 100% (2028/2028), done.\n",
      "/content/PaddleOCR\n"
     ]
    }
   ],
   "source": [
    "!git clone https://github.com/PaddlePaddle/PaddleOCR.git\n",
    "%cd PaddleOCR\n"
   ]
  },
  {
   "cell_type": "code",
   "execution_count": 1,
   "metadata": {
    "colab": {
     "base_uri": "https://localhost:8080/"
    },
    "executionInfo": {
     "elapsed": 45150,
     "status": "ok",
     "timestamp": 1741416385840,
     "user": {
      "displayName": "Hail Roh",
      "userId": "16124858793382778839"
     },
     "user_tz": -540
    },
    "id": "aZnRssOQ21_E",
    "outputId": "19a9baef-da60-4353-c2d8-05a643ec767c"
   },
   "outputs": [
    {
     "name": "stdout",
     "output_type": "stream",
     "text": [
      "Mounted at /content/drive\n"
     ]
    }
   ],
   "source": [
    "from google.colab import drive\n",
    "drive.mount('/content/drive')"
   ]
  },
  {
   "cell_type": "markdown",
   "metadata": {
    "id": "Rkb5U1kd-acl"
   },
   "source": [
    "## 데이터 전처리"
   ]
  },
  {
   "cell_type": "code",
   "execution_count": 12,
   "metadata": {
    "executionInfo": {
     "elapsed": 6,
     "status": "ok",
     "timestamp": 1741341596077,
     "user": {
      "displayName": "Hail Roh",
      "userId": "16124858793382778839"
     },
     "user_tz": -540
    },
    "id": "ImW7pvAj_Zeq"
   },
   "outputs": [],
   "source": [
    "import json\n",
    "import os\n",
    "import glob\n"
   ]
  },
  {
   "cell_type": "code",
   "execution_count": 14,
   "metadata": {
    "executionInfo": {
     "elapsed": 285,
     "status": "ok",
     "timestamp": 1741342133147,
     "user": {
      "displayName": "Hail Roh",
      "userId": "16124858793382778839"
     },
     "user_tz": -540
    },
    "id": "cYFv25t-EZpR"
   },
   "outputs": [],
   "source": [
    "# 이미지 파일 이름 통일\n",
    "directory = \"/content/drive/MyDrive/Colab Notebooks/images\"\n",
    "\n",
    "# 디렉토리 내의 모든 파일 목록 가져오기\n",
    "files = os.listdir(directory)\n",
    "\n",
    "# 파일 이름 변경 로직 (예시: 모든 파일 이름 앞에 \"new_\" 추가)\n",
    "for filename in files:\n",
    "    old_filepath = os.path.join(directory, filename)\n",
    "    new_filename = filename.replace(\"JPG\",\"jpg\")\n",
    "    new_filepath = os.path.join(directory, new_filename)\n",
    "    os.rename(old_filepath, new_filepath)"
   ]
  },
  {
   "cell_type": "markdown",
   "metadata": {
    "id": "eVVXbAptOgSg"
   },
   "source": [
    "### 학습 데이터"
   ]
  },
  {
   "cell_type": "code",
   "execution_count": 35,
   "metadata": {
    "executionInfo": {
     "elapsed": 15,
     "status": "ok",
     "timestamp": 1741346312060,
     "user": {
      "displayName": "Hail Roh",
      "userId": "16124858793382778839"
     },
     "user_tz": -540
    },
    "id": "mO1c7vB3_3BF"
   },
   "outputs": [],
   "source": [
    "def convert_json_to_paddleocr_det(json_label_path, images_file_path, output_label_path):\n",
    "    \"\"\"\n",
    "    JSON annotation 파일을 PaddleOCR detection 학습용 라벨 파일로 변환합니다.\n",
    "\n",
    "    Args:\n",
    "        json_label_path (str): JSON 라벨 파일들이 있는 디렉토리 경로.\n",
    "        images_file_path (str): 이미지 파일들이 있는 디렉토리 경로.\n",
    "        output_label_path (str): 생성될 PaddleOCR 라벨 파일 경로.\n",
    "    \"\"\"\n",
    "    with open(output_label_path, \"w\", encoding=\"utf-8\") as output_file:\n",
    "        # JSON 파일 목록 가져오기\n",
    "        json_files = glob.glob(os.path.join(json_label_path, \"*.json\"))\n",
    "\n",
    "        for json_file in json_files:\n",
    "            # JSON 파일 열기\n",
    "            with open(json_file, \"r\", encoding=\"utf-8\") as f:\n",
    "                data = json.load(f)\n",
    "\n",
    "            # 이미지 정보 추출\n",
    "            image_info = data[\"images\"][0]  # images는 리스트이지만, 일반적으로 첫 번째 요소에 이미지 정보가 있음\n",
    "            image_filename = image_info[\"file_name\"].replace(\"JPG\",\"jpg\")\n",
    "            image_path = os.path.join(images_file_path, image_filename)\n",
    "\n",
    "            # PaddleOCR 라벨 형식의 annotation 리스트 생성\n",
    "            annotations_paddleocr = []\n",
    "            for annotation in data[\"annotations\"]:\n",
    "                # bounding box 좌표 추출 (xmin, ymin, xmax, ymax)\n",
    "                bbox = annotation[\"bbox\"]\n",
    "                xmin, ymin, xmax, ymax = bbox[0], bbox[1], bbox[2], bbox[3]\n",
    "\n",
    "                # PaddleOCR points 형식으로 변환: [[x1, y1], [x2, y2], [x3, y3], [x4, y4]] (시계 방향)\n",
    "                points = [\n",
    "                    [xmin, ymin],\n",
    "                    [xmax, ymin],\n",
    "                    [xmax, ymax],\n",
    "                    [xmin, ymax]\n",
    "                ]\n",
    "\n",
    "                # transcription 과 points 정보를 annotation 딕셔너리에 저장\n",
    "                annotation_paddleocr = {\n",
    "                    \"transcription\": annotation[\"text\"],\n",
    "                    \"points\": points\n",
    "                }\n",
    "                annotations_paddleocr.append(annotation_paddleocr)\n",
    "\n",
    "            # PaddleOCR 라벨 형식 (JSON list) 문자열로 변환\n",
    "            label_json_str = json.dumps(annotations_paddleocr, ensure_ascii=False)\n",
    "\n",
    "            # 라벨 파일 라인 생성 (이미지 경로 \\t JSON 문자열)\n",
    "            label_line = f\"{image_path}\\t{label_json_str}\\n\"\n",
    "\n",
    "            # 파일에 저장\n",
    "            output_file.write(label_line)\n"
   ]
  },
  {
   "cell_type": "code",
   "execution_count": 43,
   "metadata": {
    "executionInfo": {
     "elapsed": 3653,
     "status": "ok",
     "timestamp": 1741347403983,
     "user": {
      "displayName": "Hail Roh",
      "userId": "16124858793382778839"
     },
     "user_tz": -540
    },
    "id": "DJ30s1MJVBmX"
   },
   "outputs": [],
   "source": [
    "json_label_path = \"/content/drive/MyDrive/ColabNotebooks/book_cover_data_label\"  # JSON 라벨 파일 경로 (본인 환경에 맞게 수정)\n",
    "images_file_path = \"/content/drive/MyDrive/ColabNotebooks/images\"     # 이미지 파일 경로 (본인 환경에 맞게 수정)\n",
    "output_label_path = \"/content/drive/MyDrive/ColabNotebooks/label/train_label.txt\" # 출력될 train_label.txt 파일 경로 (본인 환경에 맞게 수정)\n",
    "\n",
    "convert_json_to_paddleocr_det(json_label_path, images_file_path, output_label_path)"
   ]
  },
  {
   "cell_type": "markdown",
   "metadata": {
    "id": "DPvMzcbFOify"
   },
   "source": [
    "### Eval data"
   ]
  },
  {
   "cell_type": "code",
   "execution_count": 44,
   "metadata": {
    "executionInfo": {
     "elapsed": 144,
     "status": "ok",
     "timestamp": 1741347404139,
     "user": {
      "displayName": "Hail Roh",
      "userId": "16124858793382778839"
     },
     "user_tz": -540
    },
    "id": "6q509NxqObWN"
   },
   "outputs": [],
   "source": [
    "images_file_path = '/content/drive/MyDrive/ColabNotebooks/evel_images'\n",
    "json_label_path = \"/content/drive/MyDrive/ColabNotebooks/evel_book_cover_data\"\n",
    "output_label_path = \"/content/drive/MyDrive/ColabNotebooks/evel_label/evel_label.txt\"\n",
    "\n",
    "convert_json_to_paddleocr_det(json_label_path, images_file_path, output_label_path)"
   ]
  },
  {
   "cell_type": "markdown",
   "metadata": {
    "id": "Pa5FOjBHH4iK"
   },
   "source": [
    "### 사전학습 모델 가져오기"
   ]
  },
  {
   "cell_type": "code",
   "execution_count": 16,
   "metadata": {
    "colab": {
     "base_uri": "https://localhost:8080/"
    },
    "executionInfo": {
     "elapsed": 17704,
     "status": "ok",
     "timestamp": 1741343633074,
     "user": {
      "displayName": "Hail Roh",
      "userId": "16124858793382778839"
     },
     "user_tz": -540
    },
    "id": "uMdIsGWDC54r",
    "outputId": "292fee4b-d1e0-43a9-d8d5-cb061b44b46f"
   },
   "outputs": [
    {
     "name": "stdout",
     "output_type": "stream",
     "text": [
      "--2025-03-07 10:33:35--  http://notebooks/pretrained\n",
      "Resolving notebooks (notebooks)... failed: Name or service not known.\n",
      "wget: unable to resolve host address ‘notebooks’\n",
      "--2025-03-07 10:33:35--  https://paddleocr.bj.bcebos.com/pretrained/MobileNetV3_large_x0_5_pretrained.pdparams\n",
      "Resolving paddleocr.bj.bcebos.com (paddleocr.bj.bcebos.com)... 103.235.47.176, 2402:2b40:7000:628:0:ff:b0e8:88da\n",
      "Connecting to paddleocr.bj.bcebos.com (paddleocr.bj.bcebos.com)|103.235.47.176|:443... connected.\n",
      "HTTP request sent, awaiting response... 200 OK\n",
      "Length: 3189601 (3.0M) [application/octet-stream]\n",
      "Saving to: ‘/content/drive/MyDrive/Colab/MobileNetV3_large_x0_5_pretrained.pdparams’\n",
      "\n",
      "MobileNetV3_large_x 100%[===================>]   3.04M   612KB/s    in 15s     \n",
      "\n",
      "2025-03-07 10:33:52 (213 KB/s) - ‘/content/drive/MyDrive/Colab/MobileNetV3_large_x0_5_pretrained.pdparams’ saved [3189601/3189601]\n",
      "\n",
      "FINISHED --2025-03-07 10:33:52--\n",
      "Total wall clock time: 18s\n",
      "Downloaded: 1 files, 3.0M in 15s (213 KB/s)\n"
     ]
    }
   ],
   "source": [
    "!mkdir -p /content/drive/MyDrive/Colab Notebooks/pretrained\n",
    "!wget -P /content/drive/MyDrive/Colab Notebooks/pretrained https://paddleocr.bj.bcebos.com/pretrained/MobileNetV3_large_x0_5_pretrained.pdparams"
   ]
  },
  {
   "cell_type": "markdown",
   "metadata": {
    "id": "jE-oVK10XO7Q"
   },
   "source": [
    "### Model training"
   ]
  },
  {
   "cell_type": "code",
   "execution_count": 54,
   "metadata": {
    "colab": {
     "base_uri": "https://localhost:8080/"
    },
    "collapsed": true,
    "executionInfo": {
     "elapsed": 459772,
     "status": "ok",
     "timestamp": 1741352222376,
     "user": {
      "displayName": "Hail Roh",
      "userId": "16124858793382778839"
     },
     "user_tz": -540
    },
    "id": "dvNwUH0pKrlJ",
    "outputId": "66daa134-1845-43bc-a7d7-f035737b95b0"
   },
   "outputs": [
    {
     "name": "stdout",
     "output_type": "stream",
     "text": [
      "[2025/03/07 12:29:56] ppocr WARNING: Skipping import of the encryption module.\n",
      "[2025/03/07 12:29:56] ppocr INFO: Architecture : \n",
      "[2025/03/07 12:29:56] ppocr INFO:     Backbone : \n",
      "[2025/03/07 12:29:56] ppocr INFO:         disable_se : True\n",
      "[2025/03/07 12:29:56] ppocr INFO:         model_name : large\n",
      "[2025/03/07 12:29:56] ppocr INFO:         name : MobileNetV3\n",
      "[2025/03/07 12:29:56] ppocr INFO:         scale : 0.5\n",
      "[2025/03/07 12:29:56] ppocr INFO:     Head : \n",
      "[2025/03/07 12:29:56] ppocr INFO:         k : 50\n",
      "[2025/03/07 12:29:56] ppocr INFO:         name : DBHead\n",
      "[2025/03/07 12:29:56] ppocr INFO:     Neck : \n",
      "[2025/03/07 12:29:56] ppocr INFO:         name : RSEFPN\n",
      "[2025/03/07 12:29:56] ppocr INFO:         out_channels : 96\n",
      "[2025/03/07 12:29:56] ppocr INFO:         shortcut : True\n",
      "[2025/03/07 12:29:56] ppocr INFO:     Transform : None\n",
      "[2025/03/07 12:29:56] ppocr INFO:     algorithm : DB\n",
      "[2025/03/07 12:29:56] ppocr INFO:     model_type : det\n",
      "[2025/03/07 12:29:56] ppocr INFO: Eval : \n",
      "[2025/03/07 12:29:56] ppocr INFO:     dataset : \n",
      "[2025/03/07 12:29:56] ppocr INFO:         data_dir : /content/drive/MyDrive/ColabNotebooks/evel_images\n",
      "[2025/03/07 12:29:56] ppocr INFO:         label_file_list : ['/content/drive/MyDrive/ColabNotebooks/evel_label/evel_label.txt']\n",
      "[2025/03/07 12:29:56] ppocr INFO:         name : SimpleDataSet\n",
      "[2025/03/07 12:29:56] ppocr INFO:         transforms : \n",
      "[2025/03/07 12:29:56] ppocr INFO:             DecodeImage : \n",
      "[2025/03/07 12:29:56] ppocr INFO:                 channel_first : False\n",
      "[2025/03/07 12:29:56] ppocr INFO:                 img_mode : BGR\n",
      "[2025/03/07 12:29:56] ppocr INFO:             DetLabelEncode : None\n",
      "[2025/03/07 12:29:56] ppocr INFO:             DetResizeForTest : None\n",
      "[2025/03/07 12:29:56] ppocr INFO:             NormalizeImage : \n",
      "[2025/03/07 12:29:56] ppocr INFO:                 mean : [0.485, 0.456, 0.406]\n",
      "[2025/03/07 12:29:56] ppocr INFO:                 order : hwc\n",
      "[2025/03/07 12:29:56] ppocr INFO:                 scale : 1./255.\n",
      "[2025/03/07 12:29:56] ppocr INFO:                 std : [0.229, 0.224, 0.225]\n",
      "[2025/03/07 12:29:56] ppocr INFO:             ToCHWImage : None\n",
      "[2025/03/07 12:29:56] ppocr INFO:             KeepKeys : \n",
      "[2025/03/07 12:29:56] ppocr INFO:                 keep_keys : ['image', 'shape', 'polys', 'ignore_tags']\n",
      "[2025/03/07 12:29:56] ppocr INFO:     loader : \n",
      "[2025/03/07 12:29:56] ppocr INFO:         batch_size_per_card : 1\n",
      "[2025/03/07 12:29:56] ppocr INFO:         drop_last : False\n",
      "[2025/03/07 12:29:56] ppocr INFO:         num_workers : 2\n",
      "[2025/03/07 12:29:56] ppocr INFO:         shuffle : False\n",
      "[2025/03/07 12:29:56] ppocr INFO: Global : \n",
      "[2025/03/07 12:29:56] ppocr INFO:     cal_metric_during_train : False\n",
      "[2025/03/07 12:29:56] ppocr INFO:     checkpoints : None\n",
      "[2025/03/07 12:29:56] ppocr INFO:     d2s_train_image_shape : [3, -1, -1]\n",
      "[2025/03/07 12:29:56] ppocr INFO:     debug : False\n",
      "[2025/03/07 12:29:56] ppocr INFO:     distributed : False\n",
      "[2025/03/07 12:29:56] ppocr INFO:     epoch_num : 10\n",
      "[2025/03/07 12:29:56] ppocr INFO:     eval_batch_step : [0, 400]\n",
      "[2025/03/07 12:29:56] ppocr INFO:     infer_img : doc/imgs_en/img_10.jpg\n",
      "[2025/03/07 12:29:56] ppocr INFO:     log_smooth_window : 20\n",
      "[2025/03/07 12:29:56] ppocr INFO:     pretrained_model : /content/drive/MyDrive/Colab/MobileNetV3_large_x0_5_pretrained.pdparams\n",
      "[2025/03/07 12:29:56] ppocr INFO:     print_batch_step : 10\n",
      "[2025/03/07 12:29:56] ppocr INFO:     save_epoch_step : 5\n",
      "[2025/03/07 12:29:56] ppocr INFO:     save_inference_dir : None\n",
      "[2025/03/07 12:29:56] ppocr INFO:     save_model_dir : /content/drive/MyDrive/ColabNotebooks/output/\n",
      "[2025/03/07 12:29:56] ppocr INFO:     save_res_path : /content/drive/MyDrive/Colab/predicts_db.txt\n",
      "[2025/03/07 12:29:56] ppocr INFO:     use_gpu : True\n",
      "[2025/03/07 12:29:56] ppocr INFO:     use_visualdl : False\n",
      "[2025/03/07 12:29:56] ppocr INFO: Loss : \n",
      "[2025/03/07 12:29:56] ppocr INFO:     alpha : 5\n",
      "[2025/03/07 12:29:56] ppocr INFO:     balance_loss : True\n",
      "[2025/03/07 12:29:56] ppocr INFO:     beta : 10\n",
      "[2025/03/07 12:29:56] ppocr INFO:     main_loss_type : DiceLoss\n",
      "[2025/03/07 12:29:56] ppocr INFO:     name : DBLoss\n",
      "[2025/03/07 12:29:56] ppocr INFO:     ohem_ratio : 3\n",
      "[2025/03/07 12:29:56] ppocr INFO: Metric : \n",
      "[2025/03/07 12:29:56] ppocr INFO:     main_indicator : hmean\n",
      "[2025/03/07 12:29:56] ppocr INFO:     name : DetMetric\n",
      "[2025/03/07 12:29:56] ppocr INFO: Optimizer : \n",
      "[2025/03/07 12:29:56] ppocr INFO:     beta1 : 0.9\n",
      "[2025/03/07 12:29:56] ppocr INFO:     beta2 : 0.999\n",
      "[2025/03/07 12:29:56] ppocr INFO:     lr : \n",
      "[2025/03/07 12:29:56] ppocr INFO:         learning_rate : 0.003\n",
      "[2025/03/07 12:29:56] ppocr INFO:         name : Cosine\n",
      "[2025/03/07 12:29:56] ppocr INFO:         warmup_epoch : 2\n",
      "[2025/03/07 12:29:56] ppocr INFO:     name : Adam\n",
      "[2025/03/07 12:29:56] ppocr INFO:     regularizer : \n",
      "[2025/03/07 12:29:56] ppocr INFO:         factor : 5e-05\n",
      "[2025/03/07 12:29:56] ppocr INFO:         name : L2\n",
      "[2025/03/07 12:29:56] ppocr INFO: PostProcess : \n",
      "[2025/03/07 12:29:56] ppocr INFO:     box_thresh : 0.6\n",
      "[2025/03/07 12:29:56] ppocr INFO:     max_candidates : 1000\n",
      "[2025/03/07 12:29:56] ppocr INFO:     name : DBPostProcess\n",
      "[2025/03/07 12:29:56] ppocr INFO:     thresh : 0.3\n",
      "[2025/03/07 12:29:56] ppocr INFO:     unclip_ratio : 1.5\n",
      "[2025/03/07 12:29:56] ppocr INFO: Train : \n",
      "[2025/03/07 12:29:56] ppocr INFO:     dataset : \n",
      "[2025/03/07 12:29:56] ppocr INFO:         data_dir : /content/drive/MyDrive/ColabNotebooks/images\n",
      "[2025/03/07 12:29:56] ppocr INFO:         label_file_list : ['/content/drive/MyDrive/ColabNotebooks/label/train_label.txt']\n",
      "[2025/03/07 12:29:56] ppocr INFO:         name : SimpleDataSet\n",
      "[2025/03/07 12:29:56] ppocr INFO:         ratio_list : [1.0]\n",
      "[2025/03/07 12:29:56] ppocr INFO:         transforms : \n",
      "[2025/03/07 12:29:56] ppocr INFO:             DecodeImage : \n",
      "[2025/03/07 12:29:56] ppocr INFO:                 channel_first : False\n",
      "[2025/03/07 12:29:56] ppocr INFO:                 img_mode : BGR\n",
      "[2025/03/07 12:29:56] ppocr INFO:             DetLabelEncode : None\n",
      "[2025/03/07 12:29:56] ppocr INFO:             IaaAugment : \n",
      "[2025/03/07 12:29:56] ppocr INFO:                 augmenter_args : \n",
      "[2025/03/07 12:29:56] ppocr INFO:                     args : \n",
      "[2025/03/07 12:29:56] ppocr INFO:                         p : 0.5\n",
      "[2025/03/07 12:29:56] ppocr INFO:                     type : Fliplr\n",
      "[2025/03/07 12:29:56] ppocr INFO:                     args : \n",
      "[2025/03/07 12:29:56] ppocr INFO:                         rotate : [-10, 10]\n",
      "[2025/03/07 12:29:56] ppocr INFO:                     type : Affine\n",
      "[2025/03/07 12:29:56] ppocr INFO:                     args : \n",
      "[2025/03/07 12:29:56] ppocr INFO:                         size : [0.5, 3]\n",
      "[2025/03/07 12:29:56] ppocr INFO:                     type : Resize\n",
      "[2025/03/07 12:29:56] ppocr INFO:             EastRandomCropData : \n",
      "[2025/03/07 12:29:56] ppocr INFO:                 keep_ratio : True\n",
      "[2025/03/07 12:29:56] ppocr INFO:                 max_tries : 50\n",
      "[2025/03/07 12:29:56] ppocr INFO:                 size : [960, 960]\n",
      "[2025/03/07 12:29:56] ppocr INFO:             MakeBorderMap : \n",
      "[2025/03/07 12:29:56] ppocr INFO:                 shrink_ratio : 0.4\n",
      "[2025/03/07 12:29:56] ppocr INFO:                 thresh_max : 0.7\n",
      "[2025/03/07 12:29:56] ppocr INFO:                 thresh_min : 0.3\n",
      "[2025/03/07 12:29:56] ppocr INFO:             MakeShrinkMap : \n",
      "[2025/03/07 12:29:56] ppocr INFO:                 min_text_size : 8\n",
      "[2025/03/07 12:29:56] ppocr INFO:                 shrink_ratio : 0.4\n",
      "[2025/03/07 12:29:56] ppocr INFO:             NormalizeImage : \n",
      "[2025/03/07 12:29:56] ppocr INFO:                 mean : [0.485, 0.456, 0.406]\n",
      "[2025/03/07 12:29:56] ppocr INFO:                 order : hwc\n",
      "[2025/03/07 12:29:56] ppocr INFO:                 scale : 1./255.\n",
      "[2025/03/07 12:29:56] ppocr INFO:                 std : [0.229, 0.224, 0.225]\n",
      "[2025/03/07 12:29:56] ppocr INFO:             ToCHWImage : None\n",
      "[2025/03/07 12:29:56] ppocr INFO:             KeepKeys : \n",
      "[2025/03/07 12:29:56] ppocr INFO:                 keep_keys : ['image', 'threshold_map', 'threshold_mask', 'shrink_map', 'shrink_mask']\n",
      "[2025/03/07 12:29:56] ppocr INFO:     loader : \n",
      "[2025/03/07 12:29:56] ppocr INFO:         batch_size_per_card : 8\n",
      "[2025/03/07 12:29:56] ppocr INFO:         drop_last : False\n",
      "[2025/03/07 12:29:56] ppocr INFO:         num_workers : 4\n",
      "[2025/03/07 12:29:56] ppocr INFO:         shuffle : True\n",
      "[2025/03/07 12:29:56] ppocr INFO: profiler_options : None\n",
      "[2025/03/07 12:29:56] ppocr INFO: train with paddle 2.6.2 and device Place(gpu:0)\n",
      "[2025/03/07 12:29:56] ppocr INFO: Initialize indexes of datasets:['/content/drive/MyDrive/ColabNotebooks/label/train_label.txt']\n",
      "[2025/03/07 12:29:56] ppocr INFO: Initialize indexes of datasets:['/content/drive/MyDrive/ColabNotebooks/evel_label/evel_label.txt']\n",
      "W0307 12:29:56.169821 54734 gpu_resources.cc:119] Please NOTE: device: 0, GPU Compute Capability: 7.5, Driver API Version: 12.4, Runtime API Version: 11.8\n",
      "W0307 12:29:56.170756 54734 gpu_resources.cc:164] device: 0, cuDNN Version: 8.9.\n",
      "[2025/03/07 12:29:56] ppocr INFO: train dataloader has 80 iters\n",
      "[2025/03/07 12:29:56] ppocr INFO: valid dataloader has 58 iters\n",
      "[2025/03/07 12:29:56] ppocr WARNING: The pretrained params backbone.stage1.0.mid_se.conv1.weight not in model\n",
      "[2025/03/07 12:29:56] ppocr WARNING: The pretrained params backbone.stage1.0.mid_se.conv1.bias not in model\n",
      "[2025/03/07 12:29:56] ppocr WARNING: The pretrained params backbone.stage1.0.mid_se.conv2.weight not in model\n",
      "[2025/03/07 12:29:56] ppocr WARNING: The pretrained params backbone.stage1.0.mid_se.conv2.bias not in model\n",
      "[2025/03/07 12:29:56] ppocr WARNING: The pretrained params backbone.stage1.1.mid_se.conv1.weight not in model\n",
      "[2025/03/07 12:29:56] ppocr WARNING: The pretrained params backbone.stage1.1.mid_se.conv1.bias not in model\n",
      "[2025/03/07 12:29:56] ppocr WARNING: The pretrained params backbone.stage1.1.mid_se.conv2.weight not in model\n",
      "[2025/03/07 12:29:56] ppocr WARNING: The pretrained params backbone.stage1.1.mid_se.conv2.bias not in model\n",
      "[2025/03/07 12:29:56] ppocr WARNING: The pretrained params backbone.stage1.2.mid_se.conv1.weight not in model\n",
      "[2025/03/07 12:29:56] ppocr WARNING: The pretrained params backbone.stage1.2.mid_se.conv1.bias not in model\n",
      "[2025/03/07 12:29:56] ppocr WARNING: The pretrained params backbone.stage1.2.mid_se.conv2.weight not in model\n",
      "[2025/03/07 12:29:56] ppocr WARNING: The pretrained params backbone.stage1.2.mid_se.conv2.bias not in model\n",
      "[2025/03/07 12:29:56] ppocr WARNING: The pretrained params backbone.stage2.4.mid_se.conv1.weight not in model\n",
      "[2025/03/07 12:29:56] ppocr WARNING: The pretrained params backbone.stage2.4.mid_se.conv1.bias not in model\n",
      "[2025/03/07 12:29:56] ppocr WARNING: The pretrained params backbone.stage2.4.mid_se.conv2.weight not in model\n",
      "[2025/03/07 12:29:56] ppocr WARNING: The pretrained params backbone.stage2.4.mid_se.conv2.bias not in model\n",
      "[2025/03/07 12:29:56] ppocr WARNING: The pretrained params backbone.stage2.5.mid_se.conv1.weight not in model\n",
      "[2025/03/07 12:29:56] ppocr WARNING: The pretrained params backbone.stage2.5.mid_se.conv1.bias not in model\n",
      "[2025/03/07 12:29:56] ppocr WARNING: The pretrained params backbone.stage2.5.mid_se.conv2.weight not in model\n",
      "[2025/03/07 12:29:56] ppocr WARNING: The pretrained params backbone.stage2.5.mid_se.conv2.bias not in model\n",
      "[2025/03/07 12:29:56] ppocr WARNING: The pretrained params backbone.stage3.0.mid_se.conv1.weight not in model\n",
      "[2025/03/07 12:29:56] ppocr WARNING: The pretrained params backbone.stage3.0.mid_se.conv1.bias not in model\n",
      "[2025/03/07 12:29:56] ppocr WARNING: The pretrained params backbone.stage3.0.mid_se.conv2.weight not in model\n",
      "[2025/03/07 12:29:56] ppocr WARNING: The pretrained params backbone.stage3.0.mid_se.conv2.bias not in model\n",
      "[2025/03/07 12:29:56] ppocr WARNING: The pretrained params backbone.stage3.1.mid_se.conv1.weight not in model\n",
      "[2025/03/07 12:29:56] ppocr WARNING: The pretrained params backbone.stage3.1.mid_se.conv1.bias not in model\n",
      "[2025/03/07 12:29:56] ppocr WARNING: The pretrained params backbone.stage3.1.mid_se.conv2.weight not in model\n",
      "[2025/03/07 12:29:56] ppocr WARNING: The pretrained params backbone.stage3.1.mid_se.conv2.bias not in model\n",
      "[2025/03/07 12:29:56] ppocr WARNING: The pretrained params backbone.stage3.2.mid_se.conv1.weight not in model\n",
      "[2025/03/07 12:29:56] ppocr WARNING: The pretrained params backbone.stage3.2.mid_se.conv1.bias not in model\n",
      "[2025/03/07 12:29:56] ppocr WARNING: The pretrained params backbone.stage3.2.mid_se.conv2.weight not in model\n",
      "[2025/03/07 12:29:56] ppocr WARNING: The pretrained params backbone.stage3.2.mid_se.conv2.bias not in model\n",
      "[2025/03/07 12:29:56] ppocr INFO: load pretrain successful from /content/drive/MyDrive/Colab/MobileNetV3_large_x0_5_pretrained\n",
      "[2025/03/07 12:29:56] ppocr INFO: During the training process, after the 0th iteration, an evaluation is run every 400 iterations\n",
      "[2025/03/07 12:30:25] ppocr INFO: epoch: [1/10], global_step: 10, lr: 0.000084, loss: 8.040491, loss_shrink_maps: 4.293198, loss_threshold_maps: 2.889674, loss_binary_maps: 0.866742, loss_cbn: 0.000000, avg_reader_cost: 1.62074 s, avg_batch_cost: 2.79966 s, avg_samples: 8.0, ips: 2.85749 samples/s, eta: 0:36:51, max_mem_reserved: 6376 MB, max_mem_allocated: 5319 MB\n",
      "[2025/03/07 12:30:45] ppocr INFO: epoch: [1/10], global_step: 20, lr: 0.000178, loss: 7.899380, loss_shrink_maps: 4.284315, loss_threshold_maps: 2.705755, loss_binary_maps: 0.860040, loss_cbn: 0.000000, avg_reader_cost: 0.89118 s, avg_batch_cost: 1.98170 s, avg_samples: 8.0, ips: 4.03694 samples/s, eta: 0:31:04, max_mem_reserved: 6376 MB, max_mem_allocated: 5319 MB\n",
      "[2025/03/07 12:31:06] ppocr INFO: epoch: [1/10], global_step: 30, lr: 0.000366, loss: 7.182294, loss_shrink_maps: 4.210255, loss_threshold_maps: 2.202752, loss_binary_maps: 0.837356, loss_cbn: 0.000000, avg_reader_cost: 0.97544 s, avg_batch_cost: 2.08734 s, avg_samples: 8.0, ips: 3.83263 samples/s, eta: 0:29:22, max_mem_reserved: 6376 MB, max_mem_allocated: 5319 MB\n",
      "[2025/03/07 12:31:10] ppocr ERROR: When parsing line /content/drive/MyDrive/ColabNotebooks/images/책표지_총류_000443.jpg\t[{\"transcription\": \"대한민국\", \"points\": [[117, 211], [1467, 211], [1467, 432], [117, 432]]}, {\"transcription\": \"독서혁명\", \"points\": [[106, 653], [1447, 653], [1447, 442], [106, 442]]}, {\"transcription\": \"xxx\", \"points\": [[2, 93], [346, 93], [346, 92], [2, 92]]}, {\"transcription\": \"xxx\", \"points\": [[539, 85], [566, 85], [566, 110], [539, 110]]}, {\"transcription\": \"xxx\", \"points\": [[1279, 102], [239, 102], [239, 88], [1279, 88]]}]\n",
      ", error happened with msg: Traceback (most recent call last):\n",
      "  File \"/content/PaddleOCR/ppocr/data/simple_dataset.py\", line 137, in __getitem__\n",
      "    outs = transform(data, self.ops)\n",
      "           ^^^^^^^^^^^^^^^^^^^^^^^^^\n",
      "  File \"/content/PaddleOCR/ppocr/data/imaug/__init__.py\", line 73, in transform\n",
      "    data = op(data)\n",
      "           ^^^^^^^^\n",
      "  File \"/content/PaddleOCR/ppocr/data/imaug/make_border_map.py\", line 59, in __call__\n",
      "    self.draw_border_map(text_polys[i], canvas, mask=mask)\n",
      "  File \"/content/PaddleOCR/ppocr/data/imaug/make_border_map.py\", line 83, in draw_border_map\n",
      "    padded_polygon = np.array(padding.Execute(distance)[0])\n",
      "                              ~~~~~~~~~~~~~~~~~~~~~~~~~^^^\n",
      "IndexError: list index out of range\n",
      "\n",
      "[2025/03/07 12:31:21] ppocr INFO: epoch: [1/10], global_step: 40, lr: 0.000553, loss: 6.548550, loss_shrink_maps: 4.163816, loss_threshold_maps: 1.627646, loss_binary_maps: 0.827498, loss_cbn: 0.000000, avg_reader_cost: 0.58043 s, avg_batch_cost: 1.48464 s, avg_samples: 8.0, ips: 5.38851 samples/s, eta: 0:26:27, max_mem_reserved: 6376 MB, max_mem_allocated: 5319 MB\n",
      "[2025/03/07 12:31:45] ppocr INFO: epoch: [1/10], global_step: 50, lr: 0.000741, loss: 6.174176, loss_shrink_maps: 4.159522, loss_threshold_maps: 1.184556, loss_binary_maps: 0.828731, loss_cbn: 0.000000, avg_reader_cost: 1.30127 s, avg_batch_cost: 2.30963 s, avg_samples: 8.0, ips: 3.46375 samples/s, eta: 0:26:39, max_mem_reserved: 6376 MB, max_mem_allocated: 5319 MB\n",
      "[2025/03/07 12:32:01] ppocr INFO: epoch: [1/10], global_step: 60, lr: 0.000928, loss: 6.022620, loss_shrink_maps: 4.060357, loss_threshold_maps: 1.156857, loss_binary_maps: 0.796334, loss_cbn: 0.000000, avg_reader_cost: 0.75884 s, avg_batch_cost: 1.59586 s, avg_samples: 8.0, ips: 5.01298 samples/s, eta: 0:25:11, max_mem_reserved: 6376 MB, max_mem_allocated: 5320 MB\n",
      "[2025/03/07 12:32:24] ppocr INFO: epoch: [1/10], global_step: 70, lr: 0.001116, loss: 5.683565, loss_shrink_maps: 3.834862, loss_threshold_maps: 1.139918, loss_binary_maps: 0.740453, loss_cbn: 0.000000, avg_reader_cost: 1.15630 s, avg_batch_cost: 2.25342 s, avg_samples: 8.0, ips: 3.55016 samples/s, eta: 0:25:13, max_mem_reserved: 6376 MB, max_mem_allocated: 5320 MB\n",
      "[2025/03/07 12:32:26] ppocr ERROR: When parsing line /content/drive/MyDrive/ColabNotebooks/images/책표지_총류_000328.jpg\t[{\"transcription\": \"고마워\", \"points\": [[297, 34], [947, 34], [947, 384], [297, 384]]}, {\"transcription\": \"캠\", \"points\": [[266, 416], [382, 416], [382, 417], [266, 417]]}, {\"transcription\": \"핑\", \"points\": [[945, 454], [306, 454], [306, 389], [945, 389]]}, {\"transcription\": \"xxx\", \"points\": [[668, 755], [239, 755], [239, 71], [668, 71]]}]\n",
      ", error happened with msg: Traceback (most recent call last):\n",
      "  File \"/content/PaddleOCR/ppocr/data/simple_dataset.py\", line 137, in __getitem__\n",
      "    outs = transform(data, self.ops)\n",
      "           ^^^^^^^^^^^^^^^^^^^^^^^^^\n",
      "  File \"/content/PaddleOCR/ppocr/data/imaug/__init__.py\", line 73, in transform\n",
      "    data = op(data)\n",
      "           ^^^^^^^^\n",
      "  File \"/content/PaddleOCR/ppocr/data/imaug/make_border_map.py\", line 59, in __call__\n",
      "    self.draw_border_map(text_polys[i], canvas, mask=mask)\n",
      "  File \"/content/PaddleOCR/ppocr/data/imaug/make_border_map.py\", line 83, in draw_border_map\n",
      "    padded_polygon = np.array(padding.Execute(distance)[0])\n",
      "                              ~~~~~~~~~~~~~~~~~~~~~~~~~^^^\n",
      "IndexError: list index out of range\n",
      "\n",
      "[2025/03/07 12:32:39] ppocr INFO: epoch: [1/10], global_step: 80, lr: 0.001303, loss: 5.648363, loss_shrink_maps: 3.806953, loss_threshold_maps: 1.133295, loss_binary_maps: 0.700287, loss_cbn: 0.000000, avg_reader_cost: 0.73398 s, avg_batch_cost: 1.39377 s, avg_samples: 8.0, ips: 5.73983 samples/s, eta: 0:23:51, max_mem_reserved: 6376 MB, max_mem_allocated: 5320 MB\n",
      "[2025/03/07 12:32:40] ppocr INFO: save model in /content/drive/MyDrive/ColabNotebooks/output/latest\n",
      "[2025/03/07 12:33:07] ppocr INFO: epoch: [2/10], global_step: 90, lr: 0.001491, loss: 5.443320, loss_shrink_maps: 3.644528, loss_threshold_maps: 1.135020, loss_binary_maps: 0.660175, loss_cbn: 0.000000, avg_reader_cost: 1.65506 s, avg_batch_cost: 2.66437 s, avg_samples: 8.0, ips: 3.00258 samples/s, eta: 0:24:24, max_mem_reserved: 6376 MB, max_mem_allocated: 5320 MB\n",
      "[2025/03/07 12:33:24] ppocr INFO: epoch: [2/10], global_step: 100, lr: 0.001678, loss: 5.203640, loss_shrink_maps: 3.464415, loss_threshold_maps: 1.123064, loss_binary_maps: 0.612812, loss_cbn: 0.000000, avg_reader_cost: 0.90082 s, avg_batch_cost: 1.69223 s, avg_samples: 8.0, ips: 4.72749 samples/s, eta: 0:23:38, max_mem_reserved: 6376 MB, max_mem_allocated: 5320 MB\n",
      "[2025/03/07 12:33:45] ppocr INFO: epoch: [2/10], global_step: 110, lr: 0.001866, loss: 5.038337, loss_shrink_maps: 3.362298, loss_threshold_maps: 1.118253, loss_binary_maps: 0.578795, loss_cbn: 0.000000, avg_reader_cost: 1.08410 s, avg_batch_cost: 1.96265 s, avg_samples: 8.0, ips: 4.07612 samples/s, eta: 0:23:14, max_mem_reserved: 6376 MB, max_mem_allocated: 5320 MB\n",
      "[2025/03/07 12:34:02] ppocr INFO: epoch: [2/10], global_step: 120, lr: 0.002053, loss: 5.016518, loss_shrink_maps: 3.288198, loss_threshold_maps: 1.109813, loss_binary_maps: 0.596601, loss_cbn: 0.000000, avg_reader_cost: 0.87039 s, avg_batch_cost: 1.69756 s, avg_samples: 8.0, ips: 4.71264 samples/s, eta: 0:22:35, max_mem_reserved: 6376 MB, max_mem_allocated: 5320 MB\n",
      "[2025/03/07 12:34:22] ppocr INFO: epoch: [2/10], global_step: 130, lr: 0.002241, loss: 4.997269, loss_shrink_maps: 3.262834, loss_threshold_maps: 1.110447, loss_binary_maps: 0.600825, loss_cbn: 0.000000, avg_reader_cost: 0.96277 s, avg_batch_cost: 1.91318 s, avg_samples: 8.0, ips: 4.18151 samples/s, eta: 0:22:11, max_mem_reserved: 6376 MB, max_mem_allocated: 5320 MB\n",
      "[2025/03/07 12:34:40] ppocr INFO: epoch: [2/10], global_step: 140, lr: 0.002428, loss: 4.524722, loss_shrink_maps: 2.907114, loss_threshold_maps: 1.104784, loss_binary_maps: 0.531843, loss_cbn: 0.000000, avg_reader_cost: 0.92449 s, avg_batch_cost: 1.77860 s, avg_samples: 8.0, ips: 4.49792 samples/s, eta: 0:21:41, max_mem_reserved: 6376 MB, max_mem_allocated: 5320 MB\n",
      "[2025/03/07 12:34:59] ppocr INFO: epoch: [2/10], global_step: 150, lr: 0.002616, loss: 4.245424, loss_shrink_maps: 2.668181, loss_threshold_maps: 1.076840, loss_binary_maps: 0.502427, loss_cbn: 0.000000, avg_reader_cost: 0.86230 s, avg_batch_cost: 1.73734 s, avg_samples: 8.0, ips: 4.60475 samples/s, eta: 0:21:11, max_mem_reserved: 6376 MB, max_mem_allocated: 5320 MB\n",
      "[2025/03/07 12:35:15] ppocr INFO: epoch: [2/10], global_step: 160, lr: 0.002803, loss: 4.332612, loss_shrink_maps: 2.728619, loss_threshold_maps: 1.085900, loss_binary_maps: 0.513416, loss_cbn: 0.000000, avg_reader_cost: 0.91999 s, avg_batch_cost: 1.60201 s, avg_samples: 8.0, ips: 4.99372 samples/s, eta: 0:20:38, max_mem_reserved: 6376 MB, max_mem_allocated: 5321 MB\n",
      "[2025/03/07 12:35:16] ppocr INFO: save model in /content/drive/MyDrive/ColabNotebooks/output/latest\n",
      "[2025/03/07 12:35:40] ppocr INFO: epoch: [3/10], global_step: 170, lr: 0.002990, loss: 4.439142, loss_shrink_maps: 2.823682, loss_threshold_maps: 1.091209, loss_binary_maps: 0.550952, loss_cbn: 0.000000, avg_reader_cost: 1.49124 s, avg_batch_cost: 2.41659 s, avg_samples: 8.0, ips: 3.31045 samples/s, eta: 0:20:36, max_mem_reserved: 6376 MB, max_mem_allocated: 5321 MB\n",
      "[2025/03/07 12:36:03] ppocr INFO: epoch: [3/10], global_step: 180, lr: 0.002999, loss: 4.388588, loss_shrink_maps: 2.719572, loss_threshold_maps: 1.081392, loss_binary_maps: 0.535055, loss_cbn: 0.000000, avg_reader_cost: 1.29480 s, avg_batch_cost: 2.26607 s, avg_samples: 8.0, ips: 3.53034 samples/s, eta: 0:20:27, max_mem_reserved: 6376 MB, max_mem_allocated: 5321 MB\n",
      "[2025/03/07 12:36:20] ppocr INFO: epoch: [3/10], global_step: 190, lr: 0.002996, loss: 4.304857, loss_shrink_maps: 2.708876, loss_threshold_maps: 1.079466, loss_binary_maps: 0.528451, loss_cbn: 0.000000, avg_reader_cost: 0.69217 s, avg_batch_cost: 1.61590 s, avg_samples: 8.0, ips: 4.95082 samples/s, eta: 0:19:56, max_mem_reserved: 6376 MB, max_mem_allocated: 5321 MB\n",
      "[2025/03/07 12:36:41] ppocr INFO: epoch: [3/10], global_step: 200, lr: 0.002990, loss: 4.515210, loss_shrink_maps: 2.854377, loss_threshold_maps: 1.084297, loss_binary_maps: 0.562731, loss_cbn: 0.000000, avg_reader_cost: 1.05296 s, avg_batch_cost: 2.02941 s, avg_samples: 8.0, ips: 3.94203 samples/s, eta: 0:19:38, max_mem_reserved: 6376 MB, max_mem_allocated: 5321 MB\n",
      "[2025/03/07 12:36:59] ppocr INFO: epoch: [3/10], global_step: 210, lr: 0.002982, loss: 4.658170, loss_shrink_maps: 2.965272, loss_threshold_maps: 1.077903, loss_binary_maps: 0.587354, loss_cbn: 0.000000, avg_reader_cost: 0.93110 s, avg_batch_cost: 1.71333 s, avg_samples: 8.0, ips: 4.66928 samples/s, eta: 0:19:11, max_mem_reserved: 6376 MB, max_mem_allocated: 5321 MB\n",
      "[2025/03/07 12:37:17] ppocr INFO: epoch: [3/10], global_step: 220, lr: 0.002972, loss: 4.438136, loss_shrink_maps: 2.781873, loss_threshold_maps: 1.096182, loss_binary_maps: 0.551607, loss_cbn: 0.000000, avg_reader_cost: 0.90084 s, avg_batch_cost: 1.70868 s, avg_samples: 8.0, ips: 4.68199 samples/s, eta: 0:18:45, max_mem_reserved: 6376 MB, max_mem_allocated: 5321 MB\n",
      "[2025/03/07 12:37:25] ppocr ERROR: When parsing line /content/drive/MyDrive/ColabNotebooks/images/책표지_총류_000443.jpg\t[{\"transcription\": \"대한민국\", \"points\": [[117, 211], [1467, 211], [1467, 432], [117, 432]]}, {\"transcription\": \"독서혁명\", \"points\": [[106, 653], [1447, 653], [1447, 442], [106, 442]]}, {\"transcription\": \"xxx\", \"points\": [[2, 93], [346, 93], [346, 92], [2, 92]]}, {\"transcription\": \"xxx\", \"points\": [[539, 85], [566, 85], [566, 110], [539, 110]]}, {\"transcription\": \"xxx\", \"points\": [[1279, 102], [239, 102], [239, 88], [1279, 88]]}]\n",
      ", error happened with msg: Traceback (most recent call last):\n",
      "  File \"/content/PaddleOCR/ppocr/data/simple_dataset.py\", line 137, in __getitem__\n",
      "    outs = transform(data, self.ops)\n",
      "           ^^^^^^^^^^^^^^^^^^^^^^^^^\n",
      "  File \"/content/PaddleOCR/ppocr/data/imaug/__init__.py\", line 73, in transform\n",
      "    data = op(data)\n",
      "           ^^^^^^^^\n",
      "  File \"/content/PaddleOCR/ppocr/data/imaug/make_border_map.py\", line 59, in __call__\n",
      "    self.draw_border_map(text_polys[i], canvas, mask=mask)\n",
      "  File \"/content/PaddleOCR/ppocr/data/imaug/make_border_map.py\", line 83, in draw_border_map\n",
      "    padded_polygon = np.array(padding.Execute(distance)[0])\n",
      "                              ~~~~~~~~~~~~~~~~~~~~~~~~~^^^\n",
      "IndexError: list index out of range\n",
      "\n",
      "[2025/03/07 12:37:38] ppocr INFO: epoch: [3/10], global_step: 230, lr: 0.002959, loss: 4.393722, loss_shrink_maps: 2.738325, loss_threshold_maps: 1.096182, loss_binary_maps: 0.541714, loss_cbn: 0.000000, avg_reader_cost: 1.10291 s, avg_batch_cost: 2.02416 s, avg_samples: 8.0, ips: 3.95225 samples/s, eta: 0:18:28, max_mem_reserved: 6376 MB, max_mem_allocated: 5321 MB\n",
      "[2025/03/07 12:37:52] ppocr INFO: epoch: [3/10], global_step: 240, lr: 0.002944, loss: 4.272009, loss_shrink_maps: 2.683016, loss_threshold_maps: 1.080482, loss_binary_maps: 0.534626, loss_cbn: 0.000000, avg_reader_cost: 0.69772 s, avg_batch_cost: 1.29992 s, avg_samples: 8.0, ips: 6.15423 samples/s, eta: 0:17:53, max_mem_reserved: 6376 MB, max_mem_allocated: 5321 MB\n",
      "[2025/03/07 12:37:52] ppocr INFO: save model in /content/drive/MyDrive/ColabNotebooks/output/latest\n",
      "[2025/03/07 12:38:15] ppocr INFO: epoch: [4/10], global_step: 250, lr: 0.002927, loss: 4.508162, loss_shrink_maps: 2.875708, loss_threshold_maps: 1.070202, loss_binary_maps: 0.570803, loss_cbn: 0.000000, avg_reader_cost: 1.26466 s, avg_batch_cost: 2.23971 s, avg_samples: 8.0, ips: 3.57190 samples/s, eta: 0:17:41, max_mem_reserved: 6376 MB, max_mem_allocated: 5321 MB\n",
      "[2025/03/07 12:38:34] ppocr INFO: epoch: [4/10], global_step: 260, lr: 0.002908, loss: 4.494744, loss_shrink_maps: 2.852018, loss_threshold_maps: 1.070202, loss_binary_maps: 0.567150, loss_cbn: 0.000000, avg_reader_cost: 1.01243 s, avg_batch_cost: 1.83692 s, avg_samples: 8.0, ips: 4.35511 samples/s, eta: 0:17:20, max_mem_reserved: 6376 MB, max_mem_allocated: 5321 MB\n",
      "[2025/03/07 12:38:53] ppocr INFO: epoch: [4/10], global_step: 270, lr: 0.002887, loss: 4.380424, loss_shrink_maps: 2.758484, loss_threshold_maps: 1.080247, loss_binary_maps: 0.547593, loss_cbn: 0.000000, avg_reader_cost: 1.07486 s, avg_batch_cost: 1.87362 s, avg_samples: 8.0, ips: 4.26981 samples/s, eta: 0:17:00, max_mem_reserved: 6376 MB, max_mem_allocated: 5321 MB\n",
      "[2025/03/07 12:39:13] ppocr INFO: epoch: [4/10], global_step: 280, lr: 0.002863, loss: 4.275917, loss_shrink_maps: 2.665247, loss_threshold_maps: 1.083028, loss_binary_maps: 0.532004, loss_cbn: 0.000000, avg_reader_cost: 1.03082 s, avg_batch_cost: 1.81270 s, avg_samples: 8.0, ips: 4.41331 samples/s, eta: 0:16:38, max_mem_reserved: 6376 MB, max_mem_allocated: 5321 MB\n",
      "[2025/03/07 12:39:30] ppocr INFO: epoch: [4/10], global_step: 290, lr: 0.002838, loss: 4.311975, loss_shrink_maps: 2.716310, loss_threshold_maps: 1.065154, loss_binary_maps: 0.541365, loss_cbn: 0.000000, avg_reader_cost: 0.77672 s, avg_batch_cost: 1.72353 s, avg_samples: 8.0, ips: 4.64165 samples/s, eta: 0:16:16, max_mem_reserved: 6376 MB, max_mem_allocated: 5321 MB\n",
      "[2025/03/07 12:39:52] ppocr INFO: epoch: [4/10], global_step: 300, lr: 0.002810, loss: 4.393862, loss_shrink_maps: 2.781980, loss_threshold_maps: 1.077458, loss_binary_maps: 0.555077, loss_cbn: 0.000000, avg_reader_cost: 1.13047 s, avg_batch_cost: 2.14473 s, avg_samples: 8.0, ips: 3.73008 samples/s, eta: 0:16:00, max_mem_reserved: 6376 MB, max_mem_allocated: 5321 MB\n",
      "[2025/03/07 12:40:13] ppocr INFO: epoch: [4/10], global_step: 310, lr: 0.002780, loss: 4.407786, loss_shrink_maps: 2.781315, loss_threshold_maps: 1.067862, loss_binary_maps: 0.555279, loss_cbn: 0.000000, avg_reader_cost: 1.18777 s, avg_batch_cost: 2.05311 s, avg_samples: 8.0, ips: 3.89654 samples/s, eta: 0:15:43, max_mem_reserved: 6376 MB, max_mem_allocated: 5321 MB\n",
      "[2025/03/07 12:40:27] ppocr INFO: epoch: [4/10], global_step: 320, lr: 0.002749, loss: 4.222600, loss_shrink_maps: 2.674270, loss_threshold_maps: 1.042121, loss_binary_maps: 0.532581, loss_cbn: 0.000000, avg_reader_cost: 0.61732 s, avg_batch_cost: 1.29807 s, avg_samples: 8.0, ips: 6.16299 samples/s, eta: 0:15:15, max_mem_reserved: 6376 MB, max_mem_allocated: 5321 MB\n",
      "[2025/03/07 12:40:28] ppocr INFO: save model in /content/drive/MyDrive/ColabNotebooks/output/latest\n",
      "[2025/03/07 12:40:54] ppocr INFO: epoch: [5/10], global_step: 330, lr: 0.002715, loss: 4.252898, loss_shrink_maps: 2.674347, loss_threshold_maps: 1.064754, loss_binary_maps: 0.533280, loss_cbn: 0.000000, avg_reader_cost: 1.38214 s, avg_batch_cost: 2.58500 s, avg_samples: 8.0, ips: 3.09478 samples/s, eta: 0:15:05, max_mem_reserved: 6376 MB, max_mem_allocated: 5321 MB\n",
      "[2025/03/07 12:41:11] ppocr INFO: epoch: [5/10], global_step: 340, lr: 0.002680, loss: 4.371544, loss_shrink_maps: 2.741987, loss_threshold_maps: 1.077980, loss_binary_maps: 0.544297, loss_cbn: 0.000000, avg_reader_cost: 0.96754 s, avg_batch_cost: 1.64527 s, avg_samples: 8.0, ips: 4.86244 samples/s, eta: 0:14:42, max_mem_reserved: 6376 MB, max_mem_allocated: 5321 MB\n",
      "[2025/03/07 12:41:31] ppocr INFO: epoch: [5/10], global_step: 350, lr: 0.002643, loss: 4.409292, loss_shrink_maps: 2.764784, loss_threshold_maps: 1.070400, loss_binary_maps: 0.552393, loss_cbn: 0.000000, avg_reader_cost: 1.08158 s, avg_batch_cost: 1.82508 s, avg_samples: 8.0, ips: 4.38338 samples/s, eta: 0:14:22, max_mem_reserved: 6376 MB, max_mem_allocated: 5321 MB\n",
      "[2025/03/07 12:41:51] ppocr INFO: epoch: [5/10], global_step: 360, lr: 0.002603, loss: 4.249598, loss_shrink_maps: 2.720654, loss_threshold_maps: 1.065033, loss_binary_maps: 0.545423, loss_cbn: 0.000000, avg_reader_cost: 1.10025 s, avg_batch_cost: 1.94412 s, avg_samples: 8.0, ips: 4.11498 samples/s, eta: 0:14:03, max_mem_reserved: 6376 MB, max_mem_allocated: 5321 MB\n",
      "[2025/03/07 12:42:11] ppocr INFO: epoch: [5/10], global_step: 370, lr: 0.002563, loss: 4.246147, loss_shrink_maps: 2.675513, loss_threshold_maps: 1.050829, loss_binary_maps: 0.533238, loss_cbn: 0.000000, avg_reader_cost: 0.99594 s, avg_batch_cost: 1.99957 s, avg_samples: 8.0, ips: 4.00086 samples/s, eta: 0:13:45, max_mem_reserved: 6376 MB, max_mem_allocated: 5321 MB\n",
      "[2025/03/07 12:42:28] ppocr INFO: epoch: [5/10], global_step: 380, lr: 0.002520, loss: 4.388004, loss_shrink_maps: 2.758317, loss_threshold_maps: 1.055027, loss_binary_maps: 0.550888, loss_cbn: 0.000000, avg_reader_cost: 0.84307 s, avg_batch_cost: 1.62451 s, avg_samples: 8.0, ips: 4.92457 samples/s, eta: 0:13:22, max_mem_reserved: 6376 MB, max_mem_allocated: 5321 MB\n",
      "[2025/03/07 12:42:52] ppocr INFO: epoch: [5/10], global_step: 390, lr: 0.002476, loss: 4.159554, loss_shrink_maps: 2.599613, loss_threshold_maps: 1.053892, loss_binary_maps: 0.518735, loss_cbn: 0.000000, avg_reader_cost: 1.28011 s, avg_batch_cost: 2.30761 s, avg_samples: 8.0, ips: 3.46679 samples/s, eta: 0:13:07, max_mem_reserved: 6376 MB, max_mem_allocated: 5321 MB\n",
      "[2025/03/07 12:43:03] ppocr INFO: epoch: [5/10], global_step: 400, lr: 0.002431, loss: 4.273516, loss_shrink_maps: 2.663115, loss_threshold_maps: 1.060977, loss_binary_maps: 0.531085, loss_cbn: 0.000000, avg_reader_cost: 0.35941 s, avg_batch_cost: 1.00352 s, avg_samples: 8.0, ips: 7.97191 samples/s, eta: 0:12:39, max_mem_reserved: 6376 MB, max_mem_allocated: 5321 MB\n",
      "eval model:: 100% 58/58 [00:08<00:00,  7.15it/s]\n",
      "[2025/03/07 12:43:11] ppocr INFO: cur metric, precision: 0.0, recall: 0.0, hmean: 0, fps: 14.322327569265312\n",
      "[2025/03/07 12:43:11] ppocr INFO: save best model is to /content/drive/MyDrive/ColabNotebooks/output/best_accuracy\n",
      "[2025/03/07 12:43:11] ppocr INFO: best metric, hmean: 0, is_float16: False, precision: 0.0, recall: 0.0, fps: 14.322327569265312, best_epoch: 5\n",
      "[2025/03/07 12:43:12] ppocr INFO: save model in /content/drive/MyDrive/ColabNotebooks/output/latest\n",
      "[2025/03/07 12:43:12] ppocr INFO: save model in /content/drive/MyDrive/ColabNotebooks/output/iter_epoch_5\n",
      "[2025/03/07 12:43:38] ppocr INFO: epoch: [6/10], global_step: 410, lr: 0.002384, loss: 4.306400, loss_shrink_maps: 2.697224, loss_threshold_maps: 1.064940, loss_binary_maps: 0.538592, loss_cbn: 0.000000, avg_reader_cost: 1.75655 s, avg_batch_cost: 2.62217 s, avg_samples: 8.0, ips: 3.05091 samples/s, eta: 0:12:27, max_mem_reserved: 6376 MB, max_mem_allocated: 5321 MB\n",
      "[2025/03/07 12:43:57] ppocr INFO: epoch: [6/10], global_step: 420, lr: 0.002336, loss: 4.122962, loss_shrink_maps: 2.579238, loss_threshold_maps: 1.049919, loss_binary_maps: 0.513998, loss_cbn: 0.000000, avg_reader_cost: 0.89486 s, avg_batch_cost: 1.74341 s, avg_samples: 8.0, ips: 4.58870 samples/s, eta: 0:12:06, max_mem_reserved: 6376 MB, max_mem_allocated: 5321 MB\n",
      "[2025/03/07 12:44:16] ppocr INFO: epoch: [6/10], global_step: 430, lr: 0.002286, loss: 4.061387, loss_shrink_maps: 2.521579, loss_threshold_maps: 1.060180, loss_binary_maps: 0.502433, loss_cbn: 0.000000, avg_reader_cost: 0.91513 s, avg_batch_cost: 1.91846 s, avg_samples: 8.0, ips: 4.17002 samples/s, eta: 0:11:47, max_mem_reserved: 6376 MB, max_mem_allocated: 5321 MB\n",
      "[2025/03/07 12:44:37] ppocr INFO: epoch: [6/10], global_step: 440, lr: 0.002235, loss: 4.134880, loss_shrink_maps: 2.559235, loss_threshold_maps: 1.054102, loss_binary_maps: 0.510545, loss_cbn: 0.000000, avg_reader_cost: 1.12723 s, avg_batch_cost: 2.00986 s, avg_samples: 8.0, ips: 3.98038 samples/s, eta: 0:11:29, max_mem_reserved: 6376 MB, max_mem_allocated: 5321 MB\n",
      "[2025/03/07 12:44:58] ppocr INFO: epoch: [6/10], global_step: 450, lr: 0.002184, loss: 4.119045, loss_shrink_maps: 2.571018, loss_threshold_maps: 1.035478, loss_binary_maps: 0.513410, loss_cbn: 0.000000, avg_reader_cost: 1.09027 s, avg_batch_cost: 2.02933 s, avg_samples: 8.0, ips: 3.94218 samples/s, eta: 0:11:10, max_mem_reserved: 6376 MB, max_mem_allocated: 5321 MB\n",
      "[2025/03/07 12:45:16] ppocr INFO: epoch: [6/10], global_step: 460, lr: 0.002131, loss: 4.217204, loss_shrink_maps: 2.634137, loss_threshold_maps: 1.050233, loss_binary_maps: 0.526803, loss_cbn: 0.000000, avg_reader_cost: 0.98915 s, avg_batch_cost: 1.76300 s, avg_samples: 8.0, ips: 4.53773 samples/s, eta: 0:10:50, max_mem_reserved: 6376 MB, max_mem_allocated: 5321 MB\n",
      "[2025/03/07 12:45:35] ppocr INFO: epoch: [6/10], global_step: 470, lr: 0.002077, loss: 4.168615, loss_shrink_maps: 2.610544, loss_threshold_maps: 1.049850, loss_binary_maps: 0.522014, loss_cbn: 0.000000, avg_reader_cost: 1.01257 s, avg_batch_cost: 1.83536 s, avg_samples: 8.0, ips: 4.35883 samples/s, eta: 0:10:30, max_mem_reserved: 6376 MB, max_mem_allocated: 5321 MB\n",
      "[2025/03/07 12:45:49] ppocr INFO: epoch: [6/10], global_step: 480, lr: 0.002022, loss: 4.158922, loss_shrink_maps: 2.610544, loss_threshold_maps: 1.041546, loss_binary_maps: 0.522014, loss_cbn: 0.000000, avg_reader_cost: 0.64869 s, avg_batch_cost: 1.33405 s, avg_samples: 8.0, ips: 5.99680 samples/s, eta: 0:10:08, max_mem_reserved: 6376 MB, max_mem_allocated: 5321 MB\n",
      "[2025/03/07 12:45:50] ppocr INFO: save model in /content/drive/MyDrive/ColabNotebooks/output/latest\n",
      "[2025/03/07 12:46:16] ppocr INFO: epoch: [7/10], global_step: 490, lr: 0.001966, loss: 4.079625, loss_shrink_maps: 2.531272, loss_threshold_maps: 1.021731, loss_binary_maps: 0.505768, loss_cbn: 0.000000, avg_reader_cost: 1.80601 s, avg_batch_cost: 2.58552 s, avg_samples: 8.0, ips: 3.09416 samples/s, eta: 0:09:53, max_mem_reserved: 6376 MB, max_mem_allocated: 5321 MB\n",
      "[2025/03/07 12:46:33] ppocr INFO: epoch: [7/10], global_step: 500, lr: 0.001910, loss: 4.148158, loss_shrink_maps: 2.617877, loss_threshold_maps: 1.026974, loss_binary_maps: 0.523280, loss_cbn: 0.000000, avg_reader_cost: 0.81423 s, avg_batch_cost: 1.62692 s, avg_samples: 8.0, ips: 4.91726 samples/s, eta: 0:09:32, max_mem_reserved: 6376 MB, max_mem_allocated: 5321 MB\n",
      "[2025/03/07 12:46:54] ppocr INFO: epoch: [7/10], global_step: 510, lr: 0.001853, loss: 4.248152, loss_shrink_maps: 2.701570, loss_threshold_maps: 1.030481, loss_binary_maps: 0.539719, loss_cbn: 0.000000, avg_reader_cost: 1.21169 s, avg_batch_cost: 2.05865 s, avg_samples: 8.0, ips: 3.88605 samples/s, eta: 0:09:14, max_mem_reserved: 6376 MB, max_mem_allocated: 5321 MB\n",
      "[2025/03/07 12:47:19] ppocr INFO: epoch: [7/10], global_step: 520, lr: 0.001796, loss: 4.099284, loss_shrink_maps: 2.555450, loss_threshold_maps: 1.039347, loss_binary_maps: 0.510826, loss_cbn: 0.000000, avg_reader_cost: 1.48676 s, avg_batch_cost: 2.46753 s, avg_samples: 8.0, ips: 3.24211 samples/s, eta: 0:08:58, max_mem_reserved: 6376 MB, max_mem_allocated: 5321 MB\n",
      "[2025/03/07 12:47:41] ppocr INFO: epoch: [7/10], global_step: 530, lr: 0.001738, loss: 4.257761, loss_shrink_maps: 2.682495, loss_threshold_maps: 1.046064, loss_binary_maps: 0.536766, loss_cbn: 0.000000, avg_reader_cost: 1.27986 s, avg_batch_cost: 2.16905 s, avg_samples: 8.0, ips: 3.68825 samples/s, eta: 0:08:40, max_mem_reserved: 6376 MB, max_mem_allocated: 5321 MB\n",
      "[2025/03/07 12:48:01] ppocr INFO: epoch: [7/10], global_step: 540, lr: 0.001679, loss: 4.266376, loss_shrink_maps: 2.716301, loss_threshold_maps: 1.043522, loss_binary_maps: 0.543607, loss_cbn: 0.000000, avg_reader_cost: 1.00348 s, avg_batch_cost: 1.83130 s, avg_samples: 8.0, ips: 4.36848 samples/s, eta: 0:08:20, max_mem_reserved: 6376 MB, max_mem_allocated: 5321 MB\n",
      "[2025/03/07 12:48:24] ppocr INFO: epoch: [7/10], global_step: 550, lr: 0.001621, loss: 4.364716, loss_shrink_maps: 2.773849, loss_threshold_maps: 1.026478, loss_binary_maps: 0.555624, loss_cbn: 0.000000, avg_reader_cost: 1.43982 s, avg_batch_cost: 2.26868 s, avg_samples: 8.0, ips: 3.52629 samples/s, eta: 0:08:02, max_mem_reserved: 6376 MB, max_mem_allocated: 5321 MB\n",
      "[2025/03/07 12:48:37] ppocr INFO: epoch: [7/10], global_step: 560, lr: 0.001562, loss: 4.350014, loss_shrink_maps: 2.771209, loss_threshold_maps: 1.021744, loss_binary_maps: 0.553167, loss_cbn: 0.000000, avg_reader_cost: 0.56578 s, avg_batch_cost: 1.26038 s, avg_samples: 8.0, ips: 6.34731 samples/s, eta: 0:07:40, max_mem_reserved: 6376 MB, max_mem_allocated: 5321 MB\n",
      "[2025/03/07 12:48:38] ppocr INFO: save model in /content/drive/MyDrive/ColabNotebooks/output/latest\n",
      "[2025/03/07 12:49:05] ppocr INFO: epoch: [8/10], global_step: 570, lr: 0.001503, loss: 4.322012, loss_shrink_maps: 2.757634, loss_threshold_maps: 1.019384, loss_binary_maps: 0.550979, loss_cbn: 0.000000, avg_reader_cost: 1.62240 s, avg_batch_cost: 2.66137 s, avg_samples: 8.0, ips: 3.00597 samples/s, eta: 0:07:24, max_mem_reserved: 6376 MB, max_mem_allocated: 5321 MB\n",
      "[2025/03/07 12:49:23] ppocr INFO: epoch: [8/10], global_step: 580, lr: 0.001444, loss: 4.253284, loss_shrink_maps: 2.711241, loss_threshold_maps: 1.016075, loss_binary_maps: 0.541268, loss_cbn: 0.000000, avg_reader_cost: 1.01156 s, avg_batch_cost: 1.79526 s, avg_samples: 8.0, ips: 4.45617 samples/s, eta: 0:07:04, max_mem_reserved: 6376 MB, max_mem_allocated: 5321 MB\n",
      "[2025/03/07 12:49:43] ppocr INFO: epoch: [8/10], global_step: 590, lr: 0.001385, loss: 4.066234, loss_shrink_maps: 2.573286, loss_threshold_maps: 1.018762, loss_binary_maps: 0.513548, loss_cbn: 0.000000, avg_reader_cost: 0.97442 s, avg_batch_cost: 1.88009 s, avg_samples: 8.0, ips: 4.25511 samples/s, eta: 0:06:45, max_mem_reserved: 6376 MB, max_mem_allocated: 5321 MB\n",
      "[2025/03/07 12:50:08] ppocr INFO: epoch: [8/10], global_step: 600, lr: 0.001327, loss: 4.078500, loss_shrink_maps: 2.540935, loss_threshold_maps: 1.031209, loss_binary_maps: 0.509099, loss_cbn: 0.000000, avg_reader_cost: 1.52683 s, avg_batch_cost: 2.46748 s, avg_samples: 8.0, ips: 3.24217 samples/s, eta: 0:06:27, max_mem_reserved: 6376 MB, max_mem_allocated: 5321 MB\n",
      "[2025/03/07 12:50:24] ppocr INFO: epoch: [8/10], global_step: 610, lr: 0.001268, loss: 4.079356, loss_shrink_maps: 2.547714, loss_threshold_maps: 1.035146, loss_binary_maps: 0.508895, loss_cbn: 0.000000, avg_reader_cost: 0.52999 s, avg_batch_cost: 1.51684 s, avg_samples: 8.0, ips: 5.27411 samples/s, eta: 0:06:06, max_mem_reserved: 6376 MB, max_mem_allocated: 5321 MB\n",
      "[2025/03/07 12:50:49] ppocr INFO: epoch: [8/10], global_step: 620, lr: 0.001210, loss: 4.004840, loss_shrink_maps: 2.454113, loss_threshold_maps: 1.026310, loss_binary_maps: 0.489990, loss_cbn: 0.000000, avg_reader_cost: 1.49288 s, avg_batch_cost: 2.46373 s, avg_samples: 8.0, ips: 3.24711 samples/s, eta: 0:05:49, max_mem_reserved: 6376 MB, max_mem_allocated: 5321 MB\n",
      "[2025/03/07 12:51:09] ppocr INFO: epoch: [8/10], global_step: 630, lr: 0.001153, loss: 3.923787, loss_shrink_maps: 2.409978, loss_threshold_maps: 1.023490, loss_binary_maps: 0.481080, loss_cbn: 0.000000, avg_reader_cost: 1.02125 s, avg_batch_cost: 1.96890 s, avg_samples: 8.0, ips: 4.06319 samples/s, eta: 0:05:29, max_mem_reserved: 6376 MB, max_mem_allocated: 5321 MB\n",
      "[2025/03/07 12:51:23] ppocr INFO: epoch: [8/10], global_step: 640, lr: 0.001096, loss: 4.078260, loss_shrink_maps: 2.513453, loss_threshold_maps: 1.032478, loss_binary_maps: 0.501392, loss_cbn: 0.000000, avg_reader_cost: 0.69224 s, avg_batch_cost: 1.32785 s, avg_samples: 8.0, ips: 6.02479 samples/s, eta: 0:05:08, max_mem_reserved: 6376 MB, max_mem_allocated: 5321 MB\n",
      "[2025/03/07 12:51:23] ppocr INFO: save model in /content/drive/MyDrive/ColabNotebooks/output/latest\n",
      "[2025/03/07 12:51:54] ppocr INFO: epoch: [9/10], global_step: 650, lr: 0.001039, loss: 4.061593, loss_shrink_maps: 2.513453, loss_threshold_maps: 1.013632, loss_binary_maps: 0.501392, loss_cbn: 0.000000, avg_reader_cost: 2.15020 s, avg_batch_cost: 3.07455 s, avg_samples: 8.0, ips: 2.60201 samples/s, eta: 0:04:52, max_mem_reserved: 6376 MB, max_mem_allocated: 5322 MB\n",
      "[2025/03/07 12:52:12] ppocr INFO: epoch: [9/10], global_step: 660, lr: 0.000984, loss: 4.007388, loss_shrink_maps: 2.491191, loss_threshold_maps: 1.025988, loss_binary_maps: 0.497383, loss_cbn: 0.000000, avg_reader_cost: 0.77294 s, avg_batch_cost: 1.70772 s, avg_samples: 8.0, ips: 4.68460 samples/s, eta: 0:04:32, max_mem_reserved: 6376 MB, max_mem_allocated: 5322 MB\n",
      "[2025/03/07 12:52:34] ppocr INFO: epoch: [9/10], global_step: 670, lr: 0.000929, loss: 3.981084, loss_shrink_maps: 2.458925, loss_threshold_maps: 1.031150, loss_binary_maps: 0.491009, loss_cbn: 0.000000, avg_reader_cost: 1.32814 s, avg_batch_cost: 2.14416 s, avg_samples: 8.0, ips: 3.73106 samples/s, eta: 0:04:13, max_mem_reserved: 6376 MB, max_mem_allocated: 5322 MB\n",
      "[2025/03/07 12:52:54] ppocr INFO: epoch: [9/10], global_step: 680, lr: 0.000875, loss: 4.097652, loss_shrink_maps: 2.530298, loss_threshold_maps: 1.028000, loss_binary_maps: 0.504690, loss_cbn: 0.000000, avg_reader_cost: 0.98775 s, avg_batch_cost: 1.91905 s, avg_samples: 8.0, ips: 4.16874 samples/s, eta: 0:03:53, max_mem_reserved: 6376 MB, max_mem_allocated: 5322 MB\n",
      "[2025/03/07 12:53:15] ppocr INFO: epoch: [9/10], global_step: 690, lr: 0.000822, loss: 4.199849, loss_shrink_maps: 2.630830, loss_threshold_maps: 1.039751, loss_binary_maps: 0.525024, loss_cbn: 0.000000, avg_reader_cost: 1.22862 s, avg_batch_cost: 2.11764 s, avg_samples: 8.0, ips: 3.77778 samples/s, eta: 0:03:34, max_mem_reserved: 6376 MB, max_mem_allocated: 5322 MB\n",
      "[2025/03/07 12:53:32] ppocr INFO: epoch: [9/10], global_step: 700, lr: 0.000770, loss: 3.909629, loss_shrink_maps: 2.425279, loss_threshold_maps: 1.017514, loss_binary_maps: 0.484656, loss_cbn: 0.000000, avg_reader_cost: 0.77310 s, avg_batch_cost: 1.63031 s, avg_samples: 8.0, ips: 4.90703 samples/s, eta: 0:03:14, max_mem_reserved: 6376 MB, max_mem_allocated: 5322 MB\n",
      "[2025/03/07 12:53:55] ppocr INFO: epoch: [9/10], global_step: 710, lr: 0.000719, loss: 4.186662, loss_shrink_maps: 2.636345, loss_threshold_maps: 1.009864, loss_binary_maps: 0.526311, loss_cbn: 0.000000, avg_reader_cost: 1.14023 s, avg_batch_cost: 2.24622 s, avg_samples: 8.0, ips: 3.56154 samples/s, eta: 0:02:55, max_mem_reserved: 6376 MB, max_mem_allocated: 5322 MB\n",
      "[2025/03/07 12:54:09] ppocr INFO: epoch: [9/10], global_step: 720, lr: 0.000669, loss: 4.391464, loss_shrink_maps: 2.816538, loss_threshold_maps: 1.017768, loss_binary_maps: 0.562898, loss_cbn: 0.000000, avg_reader_cost: 0.62840 s, avg_batch_cost: 1.29035 s, avg_samples: 8.0, ips: 6.19987 samples/s, eta: 0:02:35, max_mem_reserved: 6376 MB, max_mem_allocated: 5322 MB\n",
      "[2025/03/07 12:54:09] ppocr INFO: save model in /content/drive/MyDrive/ColabNotebooks/output/latest\n",
      "[2025/03/07 12:54:38] ppocr INFO: epoch: [10/10], global_step: 730, lr: 0.000621, loss: 4.102984, loss_shrink_maps: 2.587436, loss_threshold_maps: 1.025614, loss_binary_maps: 0.516529, loss_cbn: 0.000000, avg_reader_cost: 1.86984 s, avg_batch_cost: 2.79940 s, avg_samples: 8.0, ips: 2.85775 samples/s, eta: 0:02:16, max_mem_reserved: 6376 MB, max_mem_allocated: 5322 MB\n",
      "[2025/03/07 12:54:53] ppocr INFO: epoch: [10/10], global_step: 740, lr: 0.000574, loss: 4.360624, loss_shrink_maps: 2.760755, loss_threshold_maps: 1.061846, loss_binary_maps: 0.551388, loss_cbn: 0.000000, avg_reader_cost: 0.56343 s, avg_batch_cost: 1.45423 s, avg_samples: 8.0, ips: 5.50119 samples/s, eta: 0:01:56, max_mem_reserved: 6376 MB, max_mem_allocated: 5322 MB\n",
      "[2025/03/07 12:55:16] ppocr INFO: epoch: [10/10], global_step: 750, lr: 0.000528, loss: 4.180180, loss_shrink_maps: 2.638488, loss_threshold_maps: 1.042291, loss_binary_maps: 0.526323, loss_cbn: 0.000000, avg_reader_cost: 1.08500 s, avg_batch_cost: 2.24039 s, avg_samples: 8.0, ips: 3.57080 samples/s, eta: 0:01:37, max_mem_reserved: 6376 MB, max_mem_allocated: 5322 MB\n",
      "[2025/03/07 12:55:32] ppocr INFO: epoch: [10/10], global_step: 760, lr: 0.000484, loss: 3.991587, loss_shrink_maps: 2.498523, loss_threshold_maps: 1.022669, loss_binary_maps: 0.499991, loss_cbn: 0.000000, avg_reader_cost: 0.74453 s, avg_batch_cost: 1.55283 s, avg_samples: 8.0, ips: 5.15187 samples/s, eta: 0:01:17, max_mem_reserved: 6376 MB, max_mem_allocated: 5322 MB\n",
      "[2025/03/07 12:55:58] ppocr INFO: epoch: [10/10], global_step: 770, lr: 0.000441, loss: 3.991587, loss_shrink_maps: 2.490873, loss_threshold_maps: 1.013897, loss_binary_maps: 0.497798, loss_cbn: 0.000000, avg_reader_cost: 1.64517 s, avg_batch_cost: 2.52935 s, avg_samples: 8.0, ips: 3.16287 samples/s, eta: 0:00:58, max_mem_reserved: 6376 MB, max_mem_allocated: 5322 MB\n",
      "[2025/03/07 12:56:16] ppocr INFO: epoch: [10/10], global_step: 780, lr: 0.000401, loss: 3.896682, loss_shrink_maps: 2.419365, loss_threshold_maps: 1.004973, loss_binary_maps: 0.482966, loss_cbn: 0.000000, avg_reader_cost: 0.93985 s, avg_batch_cost: 1.76390 s, avg_samples: 8.0, ips: 4.53539 samples/s, eta: 0:00:38, max_mem_reserved: 6376 MB, max_mem_allocated: 5322 MB\n",
      "[2025/03/07 12:56:40] ppocr INFO: epoch: [10/10], global_step: 790, lr: 0.000361, loss: 3.760937, loss_shrink_maps: 2.306485, loss_threshold_maps: 0.999435, loss_binary_maps: 0.460279, loss_cbn: 0.000000, avg_reader_cost: 1.32541 s, avg_batch_cost: 2.37687 s, avg_samples: 8.0, ips: 3.36577 samples/s, eta: 0:00:19, max_mem_reserved: 6376 MB, max_mem_allocated: 5322 MB\n",
      "[2025/03/07 12:56:51] ppocr INFO: epoch: [10/10], global_step: 800, lr: 0.000324, loss: 3.794054, loss_shrink_maps: 2.325194, loss_threshold_maps: 1.001624, loss_binary_maps: 0.464842, loss_cbn: 0.000000, avg_reader_cost: 0.26884 s, avg_batch_cost: 0.92494 s, avg_samples: 8.0, ips: 8.64920 samples/s, eta: 0:00:00, max_mem_reserved: 6376 MB, max_mem_allocated: 5322 MB\n",
      "eval model:: 100% 58/58 [00:09<00:00,  6.12it/s]\n",
      "[2025/03/07 12:57:00] ppocr INFO: cur metric, precision: 0.03076923076923077, recall: 0.011764705882352941, hmean: 0.01702127659574468, fps: 11.812137828779436\n",
      "[2025/03/07 12:57:00] ppocr INFO: save best model is to /content/drive/MyDrive/ColabNotebooks/output/best_accuracy\n",
      "[2025/03/07 12:57:00] ppocr INFO: best metric, hmean: 0.01702127659574468, is_float16: False, precision: 0.03076923076923077, recall: 0.011764705882352941, fps: 11.812137828779436, best_epoch: 10\n",
      "[2025/03/07 12:57:01] ppocr INFO: save model in /content/drive/MyDrive/ColabNotebooks/output/latest\n",
      "[2025/03/07 12:57:01] ppocr INFO: save model in /content/drive/MyDrive/ColabNotebooks/output/iter_epoch_10\n",
      "[2025/03/07 12:57:01] ppocr INFO: best metric, hmean: 0.01702127659574468, is_float16: False, precision: 0.03076923076923077, recall: 0.011764705882352941, fps: 11.812137828779436, best_epoch: 10\n"
     ]
    }
   ],
   "source": [
    "!python3 tools/train.py -c \"/content/PaddleOCR/configs/det/ch_PP-OCRv3/ch_PP-OCRv3_det_student.yml\""
   ]
  },
  {
   "cell_type": "markdown",
   "metadata": {
    "id": "l5ll8LDviXjd"
   },
   "source": [
    "### Loss 변화율"
   ]
  },
  {
   "cell_type": "code",
   "execution_count": 55,
   "metadata": {
    "colab": {
     "base_uri": "https://localhost:8080/",
     "height": 487
    },
    "executionInfo": {
     "elapsed": 249,
     "status": "ok",
     "timestamp": 1741352319525,
     "user": {
      "displayName": "Hail Roh",
      "userId": "16124858793382778839"
     },
     "user_tz": -540
    },
    "id": "Ot5qbD7AU3DG",
    "outputId": "799d1d29-972d-44b5-b86b-4195961b1b83"
   },
   "outputs": [
    {
     "data": {
      "image/png": "[encoded data removed]",
      "text/plain": [
       "<Figure size 1000x500 with 1 Axes>"
      ]
     },
     "metadata": {},
     "output_type": "display_data"
    }
   ],
   "source": [
    "import re\n",
    "import matplotlib.pyplot as plt\n",
    "\n",
    "# 로그 파일 경로\n",
    "log_file_path = \"/content/drive/MyDrive/ColabNotebooks/log.txt\"\n",
    "\n",
    "# 손실(loss) 값과 스텝(global_step) 값을 저장할 리스트\n",
    "steps = []\n",
    "losses = []\n",
    "\n",
    "# 정규 표현식 패턴: global_step과 loss 값 추출\n",
    "pattern = re.compile(r\"global_step: (\\d+), .*?loss: ([\\d.]+)\")\n",
    "\n",
    "# 로그 파일 읽기 및 데이터 추출\n",
    "with open(log_file_path, \"r\") as file:\n",
    "    for line in file:\n",
    "        match = pattern.search(line)\n",
    "        if match:\n",
    "            step = int(match.group(1))\n",
    "            loss = float(match.group(2))\n",
    "            steps.append(step)\n",
    "            losses.append(loss)\n",
    "\n",
    "# 그래프 그리기\n",
    "plt.figure(figsize=(10, 5))\n",
    "plt.plot(steps, losses, marker='o', linestyle='-', color='b', label='Loss')\n",
    "\n",
    "plt.xlabel(\"Global Step\")\n",
    "plt.ylabel(\"Loss\")\n",
    "plt.title(\"Loss Change Over Steps\")\n",
    "plt.legend()\n",
    "plt.grid(True)\n",
    "plt.show()\n"
   ]
  },
  {
   "cell_type": "markdown",
   "metadata": {
    "id": "btMhDsIPi9u0"
   },
   "source": [
    "## Finetuned 모델 추론"
   ]
  },
  {
   "cell_type": "code",
   "execution_count": 2,
   "metadata": {
    "colab": {
     "base_uri": "https://localhost:8080/"
    },
    "executionInfo": {
     "elapsed": 12298,
     "status": "ok",
     "timestamp": 1741419469047,
     "user": {
      "displayName": "Hail Roh",
      "userId": "16124858793382778839"
     },
     "user_tz": -540
    },
    "id": "ji1cxArukOUl",
    "outputId": "cffc64fd-8c20-4216-f943-18e01ed698be"
   },
   "outputs": [
    {
     "name": "stderr",
     "output_type": "stream",
     "text": [
      "/usr/local/lib/python3.11/dist-packages/paddle/base/framework.py:688: UserWarning: You are using GPU version Paddle, but your CUDA device is not set properly. CPU device will be used by default.\n",
      "  warnings.warn(\n"
     ]
    }
   ],
   "source": [
    "import os\n",
    "import paddle\n",
    "from paddleocr import PaddleOCR, draw_ocr\n"
   ]
  },
  {
   "cell_type": "code",
   "execution_count": 5,
   "metadata": {
    "colab": {
     "base_uri": "https://localhost:8080/"
    },
    "executionInfo": {
     "elapsed": 4292,
     "status": "ok",
     "timestamp": 1741419665701,
     "user": {
      "displayName": "Hail Roh",
      "userId": "16124858793382778839"
     },
     "user_tz": -540
    },
    "id": "VaHMusfqiRUH",
    "outputId": "8302bd4c-74d8-46e1-86ac-cd04bb12ba71"
   },
   "outputs": [
    {
     "name": "stdout",
     "output_type": "stream",
     "text": [
      "[2025/03/08 07:41:01] ppocr DEBUG: Namespace(help='==SUPPRESS==', use_gpu=False, use_xpu=False, use_npu=False, use_mlu=False, use_gcu=False, ir_optim=True, use_tensorrt=False, min_subgraph_size=15, precision='fp32', gpu_mem=500, gpu_id=0, image_dir=None, page_num=0, det_algorithm='DB', det_model_dir='/content/output/ch_PP-OCR_V3_det/latest', det_limit_side_len=960, det_limit_type='max', det_box_type='quad', det_db_thresh=0.3, det_db_box_thresh=0.6, det_db_unclip_ratio=1.5, max_batch_size=10, use_dilation=False, det_db_score_mode='fast', det_east_score_thresh=0.8, det_east_cover_thresh=0.1, det_east_nms_thresh=0.2, det_sast_score_thresh=0.5, det_sast_nms_thresh=0.2, det_pse_thresh=0, det_pse_box_thresh=0.85, det_pse_min_area=16, det_pse_scale=1, scales=[8, 16, 32], alpha=1.0, beta=1.0, fourier_degree=5, rec_algorithm='SVTR_LCNet', rec_model_dir='/root/.paddleocr/whl/rec/korean/korean_PP-OCRv4_rec_infer', rec_image_inverse=True, rec_image_shape='3, 48, 320', rec_batch_num=6, max_text_length=25, rec_char_dict_path='/usr/local/lib/python3.11/dist-packages/paddleocr/ppocr/utils/dict/korean_dict.txt', use_space_char=True, vis_font_path='./doc/fonts/simfang.ttf', drop_score=0.5, e2e_algorithm='PGNet', e2e_model_dir=None, e2e_limit_side_len=768, e2e_limit_type='max', e2e_pgnet_score_thresh=0.5, e2e_char_dict_path='./ppocr/utils/ic15_dict.txt', e2e_pgnet_valid_set='totaltext', e2e_pgnet_mode='fast', use_angle_cls=False, cls_model_dir='/root/.paddleocr/whl/cls/ch_ppocr_mobile_v2.0_cls_infer', cls_image_shape='3, 48, 192', label_list=['0', '180'], cls_batch_num=6, cls_thresh=0.9, enable_mkldnn=False, cpu_threads=10, use_pdserving=False, warmup=False, sr_model_dir=None, sr_image_shape='3, 32, 128', sr_batch_num=1, draw_img_save_dir='./inference_results', save_crop_res=False, crop_res_save_dir='./output', use_mp=False, total_process_num=1, process_id=0, benchmark=False, save_log_path='./log_output/', show_log=True, use_onnx=False, onnx_providers=False, onnx_sess_options=False, return_word_box=False, output='./output', table_max_len=488, table_algorithm='TableAttn', table_model_dir=None, merge_no_span_structure=True, table_char_dict_path=None, formula_algorithm='LaTeXOCR', formula_model_dir=None, formula_char_dict_path=None, formula_batch_num=1, layout_model_dir=None, layout_dict_path=None, layout_score_threshold=0.5, layout_nms_threshold=0.5, kie_algorithm='LayoutXLM', ser_model_dir=None, re_model_dir=None, use_visual_backbone=True, ser_dict_path='../train_data/XFUND/class_list_xfun.txt', ocr_order_method=None, mode='structure', image_orientation=False, layout=True, table=True, formula=False, ocr=True, recovery=False, recovery_to_markdown=False, use_pdf2docx_api=False, invert=False, binarize=False, alphacolor=(255, 255, 255), lang='korean', det=True, rec=True, type='ocr', savefile=False, ocr_version='PP-OCRv4', structure_version='PP-StructureV2')\n",
      "[2025/03/08 07:41:04] ppocr WARNING: Since the angle classifier is not initialized, it will not be used during the forward process\n",
      "[2025/03/08 07:41:04] ppocr DEBUG: dt_boxes num : 5, elapsed : 0.4811286926269531\n",
      "[2025/03/08 07:41:05] ppocr DEBUG: rec_res num  : 5, elapsed : 1.0320219993591309\n",
      "[[591.0, 59.0], [1335.0, 63.0], [1334.0, 229.0], [590.0, 225.0]]\n"
     ]
    }
   ],
   "source": [
    "finetuned_model_path = \"/content/output/ch_PP-OCR_V3_det/latest\"\n",
    "\n",
    "ocr = PaddleOCR(det_model_dir = finetuned_model_path,\n",
    "                use_angle_cls=False,\n",
    "                lang='korean',\n",
    "                rec_model_dir=None,\n",
    "                # 필요에 따라 설정 유지 또는 제거\n",
    "                )"
   ]
  },
  {
   "cell_type": "code",
   "execution_count": 30,
   "metadata": {
    "colab": {
     "base_uri": "https://localhost:8080/"
    },
    "executionInfo": {
     "elapsed": 8844,
     "status": "ok",
     "timestamp": 1741421114640,
     "user": {
      "displayName": "Hail Roh",
      "userId": "16124858793382778839"
     },
     "user_tz": -540
    },
    "id": "dwlRLe-duluL",
    "outputId": "4ea4fd0d-435e-493e-91dd-e95744e417d9"
   },
   "outputs": [
    {
     "name": "stdout",
     "output_type": "stream",
     "text": [
      "[2025/03/08 08:05:05] ppocr WARNING: Since the angle classifier is not initialized, it will not be used during the forward process\n",
      "[2025/03/08 08:05:05] ppocr DEBUG: dt_boxes num : 4, elapsed : 0.23780274391174316\n",
      "[2025/03/08 08:05:06] ppocr DEBUG: rec_res num  : 4, elapsed : 0.693303108215332\n",
      "시나리오\n",
      "플래닝\n",
      "유정식\n",
      "지음\n",
      "[2025/03/08 08:05:06] ppocr WARNING: Since the angle classifier is not initialized, it will not be used during the forward process\n",
      "[2025/03/08 08:05:06] ppocr DEBUG: dt_boxes num : 11, elapsed : 0.23000502586364746\n",
      "[2025/03/08 08:05:08] ppocr DEBUG: rec_res num  : 11, elapsed : 1.7819721698760986\n",
      "타파할\n",
      "난독\n",
      "시대를\n",
      "독서의기술\n",
      "혼자\n",
      "읽기부터\n",
      "북클럽\n",
      "참여까지\n",
      "독서\n",
      "뉴얼\n",
      "실전\n",
      "[2025/03/08 08:05:08] ppocr WARNING: Since the angle classifier is not initialized, it will not be used during the forward process\n",
      "[2025/03/08 08:05:09] ppocr DEBUG: dt_boxes num : 3, elapsed : 0.2218952178955078\n",
      "[2025/03/08 08:05:09] ppocr DEBUG: rec_res num  : 3, elapsed : 0.4898366928100586\n",
      "로큰롤의\n",
      "유산을\n",
      "찾아서\n",
      "[2025/03/08 08:05:09] ppocr WARNING: Since the angle classifier is not initialized, it will not be used during the forward process\n",
      "[2025/03/08 08:05:09] ppocr DEBUG: dt_boxes num : 9, elapsed : 0.23481249809265137\n",
      "[2025/03/08 08:05:11] ppocr DEBUG: rec_res num  : 9, elapsed : 1.5751802921295166\n",
      "I Delitti\n",
      "Del\n",
      "Mosaico\n",
      "안테의\n",
      "오자이크\n",
      "살인\n",
      "줄리오레오니장편소설\n",
      "이현경옮김\n",
      "[2025/03/08 08:05:11] ppocr WARNING: Since the angle classifier is not initialized, it will not be used during the forward process\n",
      "[2025/03/08 08:05:11] ppocr DEBUG: dt_boxes num : 14, elapsed : 0.22900390625\n",
      "[2025/03/08 08:05:14] ppocr DEBUG: rec_res num  : 14, elapsed : 2.7723233699798584\n",
      "이\n",
      "토록\n",
      "어\n",
      "여\n",
      "뻔\n",
      "그\n",
      "림\n",
      "채\n",
      "이상희\n",
      "최현미\n",
      "한미화\n",
      "김지은\n",
      "지음\n"
     ]
    }
   ],
   "source": [
    "# 이미지 경로 설정 (기존 코드 유지)\n",
    "image_path = \"/content/drive/MyDrive/comparison_images/\"\n",
    "book_cover_images = ['책표지_총류_000002.jpg','책표지_총류_000085.jpg','책표지_총류_000102.jpg','책표지_총류_000292.jpg','책표지_총류_000586.jpg']\n",
    "\n",
    "for i in range(5):\n",
    "  images_file_path = image_path + book_cover_images[i]\n",
    "  ocr_result = ocr.ocr(images_file_path, cls=True)\n",
    "\n",
    "  for line_info in ocr_result[0]:\n",
    "    text, confidence = line_info[1]  # 튜플에서 텍스트와 신뢰도 추출\n",
    "    print(text)     # 텍스트만 리스트에 추가\n"
   ]
  },
  {
   "cell_type": "code",
   "execution_count": 3,
   "metadata": {},
   "outputs": [
    {
     "data": {
      "image/png": "[encoded data removed]",
      "text/plain": [
       "<Figure size 640x480 with 1 Axes>"
      ]
     },
     "metadata": {},
     "output_type": "display_data"
    }
   ],
   "source": [
    "import matplotlib.pyplot as plt\n",
    "import numpy as np\n",
    "\n",
    "fig, ax = plt.subplots()\n",
    "\n",
    "ocrs = ['paddleOCR','fine-tuned paddleOCR']\n",
    "values = [170, 203]\n",
    "colors = ['skyblue', 'salmon']  # 각 막대별 색상 리스트\n",
    "\n",
    "ax.bar(ocrs, values, color=colors)\n",
    "\n",
    "ax.set_ylabel('Character-level score')\n",
    "ax.set_title('Comparison paddleOCR verse finetuned(5 Book Covers)')\n",
    "\n",
    "plt.show()"
   ]
  },
  {
   "cell_type": "code",
   "execution_count": null,
   "metadata": {},
   "outputs": [],
   "source": []
  }
 ],
 "metadata": {
  "accelerator": "GPU",
  "colab": {
   "authorship_tag": "ABX9TyP3av3gqD8E9y3BUftJBD8Z",
   "gpuType": "T4",
   "provenance": []
  },
  "kernelspec": {
   "display_name": "ocr_reader",
   "language": "python",
   "name": "python3"
  },
  "language_info": {
   "codemirror_mode": {
    "name": "ipython",
    "version": 3
   },
   "file_extension": ".py",
   "mimetype": "text/x-python",
   "name": "python",
   "nbconvert_exporter": "python",
   "pygments_lexer": "ipython3",
   "version": "3.11.11"
  }
 },
 "nbformat": 4,
 "nbformat_minor": 0
}
