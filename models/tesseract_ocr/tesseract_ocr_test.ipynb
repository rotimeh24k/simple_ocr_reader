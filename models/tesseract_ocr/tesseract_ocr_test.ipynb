{
 "cells": [
  {
   "cell_type": "code",
   "execution_count": 2,
   "metadata": {},
   "outputs": [],
   "source": [
    "from PIL import Image\n",
    "import pytesseract"
   ]
  },
  {
   "cell_type": "code",
   "execution_count": 4,
   "metadata": {},
   "outputs": [
    {
     "name": "stdout",
     "output_type": "stream",
     "text": [
      "OCR 결과:\n",
      " 5 세 부 터 초 등 1 학 년\n",
      "그 림 책 은 따 로 있 다\n",
      "\n",
      "각 하 는 힘 을 !l.쿡줄'늦..쿡`l쓱 핵 귀 기 의 모 든\n",
      "\n",
      "\n"
     ]
    }
   ],
   "source": [
    "# OCR을 수행할 이미지 파일 경로\n",
    "image_path = '../../data/book_cover_sample/images/책표지_총류_000008.jpg' # 이미지 파일 경로\n",
    "\n",
    "tessdata_dir = '/opt/homebrew/share/tessdata'  # 한국어 데이터 위치\n",
    "config = f'--tessdata-dir \"{tessdata_dir}\"'\n",
    "\n",
    "try:\n",
    "    # 이미지 열기\n",
    "    img = Image.open(image_path)\n",
    "\n",
    "    # OCR 수행\n",
    "    text = pytesseract.image_to_string(img, lang='kor', config=config)  \n",
    "\n",
    "    # 결과 출력\n",
    "    print(\"OCR 결과:\\n\", text)\n",
    "\n",
    "except FileNotFoundError:\n",
    "    print(f\"오류: 이미지 파일 '{image_path}'을 찾을 수 없습니다.\")\n",
    "except Exception as e:\n",
    "    print(f\"오류 발생: {e}\")"
   ]
  },
  {
   "cell_type": "code",
   "execution_count": null,
   "metadata": {},
   "outputs": [],
   "source": []
  }
 ],
 "metadata": {
  "kernelspec": {
   "display_name": "ocr_reader",
   "language": "python",
   "name": "python3"
  },
  "language_info": {
   "codemirror_mode": {
    "name": "ipython",
    "version": 3
   },
   "file_extension": ".py",
   "mimetype": "text/x-python",
   "name": "python",
   "nbconvert_exporter": "python",
   "pygments_lexer": "ipython3",
   "version": "3.11.11"
  }
 },
 "nbformat": 4,
 "nbformat_minor": 2
}
