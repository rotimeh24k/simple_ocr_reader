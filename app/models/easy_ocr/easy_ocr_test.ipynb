{
 "cells": [
  {
   "cell_type": "code",
   "execution_count": 2,
   "metadata": {},
   "outputs": [],
   "source": [
    "import easyocr\n",
    "from PIL import Image "
   ]
  },
  {
   "cell_type": "code",
   "execution_count": 3,
   "metadata": {},
   "outputs": [
    {
     "name": "stdout",
     "output_type": "stream",
     "text": [
      "인식된 텍스트:\n",
      " 5세부터 초등 1학년\n",
      "엄마가\n",
      "읽어쥐야 할\n",
      "그림책은 따로 있다\n",
      " 각 하 논\n",
      "힘 올\n",
      "키우 논\n",
      "유렵 식\n",
      "책\n",
      "위 기 의\n",
      "모 든\n",
      "것\n"
     ]
    }
   ],
   "source": [
    "reader = easyocr.Reader(['ko', 'en'])\n",
    "image_path = '../../data/book_cover_sample/images/책표지_총류_000008.jpg' # 이미지 파일 경로\n",
    "\n",
    "try:\n",
    "    # 이미지 파일로부터 텍스트 추출\n",
    "    results = reader.readtext(image_path) # 이미지 경로 또는 이미지 객체 (numpy array, PIL Image) 입력 가능\n",
    "\n",
    "    # 결과 출력 (bounding box 좌표, 인식된 텍스트, 신뢰도)\n",
    "    # for (bbox, text, prob) in results:\n",
    "    #     print(f\"Bounding Box: {bbox}, Text: {text}, Confidence: {prob:.4f}\")\n",
    "\n",
    "    # 또는 인식된 텍스트만 출력하고 싶다면\n",
    "    recognized_texts = [text for bbox, text, prob in results]\n",
    "    print(\"인식된 텍스트:\\n\", \"\\n\".join(recognized_texts))\n",
    "\n",
    "\n",
    "except FileNotFoundError:\n",
    "    print(f\"오류: 이미지 파일 '{image_path}'을 찾을 수 없습니다.\")\n",
    "except Exception as e:\n",
    "    print(f\"오류 발생: {e}\")"
   ]
  },
  {
   "cell_type": "code",
   "execution_count": 4,
   "metadata": {},
   "outputs": [
    {
     "data": {
      "text/plain": [
       "[([[617, 373], [959, 373], [959, 437], [617, 437]],\n",
       "  '5세부터 초등 1학년',\n",
       "  0.841430766494299),\n",
       " ([[1008, 312], [1427, 312], [1427, 487], [1008, 487]],\n",
       "  '엄마가',\n",
       "  0.9994203051994361),\n",
       " ([[707, 471], [1431, 471], [1431, 657], [707, 657]],\n",
       "  '읽어쥐야 할',\n",
       "  0.8002701593976776),\n",
       " ([[262, 632], [1439, 632], [1439, 849], [262, 849]],\n",
       "  '그림책은 따로 있다',\n",
       "  0.9828786644007893),\n",
       " ([[0, 1101], [195, 1101], [195, 1157], [0, 1157]],\n",
       "  ' 각 하 논',\n",
       "  0.5241820558013377),\n",
       " ([[250, 1103], [358, 1103], [358, 1159], [250, 1159]],\n",
       "  '힘 올',\n",
       "  0.8743700078247955),\n",
       " ([[414, 1106], [586, 1106], [586, 1162], [414, 1162]],\n",
       "  '키우 논',\n",
       "  0.8408775002465202),\n",
       " ([[642, 1098], [831, 1098], [831, 1164], [642, 1164]],\n",
       "  '유렵 식',\n",
       "  0.7377153038978577),\n",
       " ([[872, 1098], [934, 1098], [934, 1150], [872, 1150]],\n",
       "  '책',\n",
       "  0.9027777980920746),\n",
       " ([[979, 1086], [1158, 1086], [1158, 1154], [979, 1154]],\n",
       "  '위 기 의',\n",
       "  0.48944904398234396),\n",
       " ([[1211, 1081], [1330, 1081], [1330, 1142], [1211, 1142]],\n",
       "  '모 든',\n",
       "  0.8722131848335266),\n",
       " ([[1366, 1078], [1422, 1078], [1422, 1130], [1366, 1130]],\n",
       "  '것',\n",
       "  0.9994930671530575)]"
      ]
     },
     "execution_count": 4,
     "metadata": {},
     "output_type": "execute_result"
    }
   ],
   "source": [
    "results"
   ]
  },
  {
   "cell_type": "code",
   "execution_count": null,
   "metadata": {},
   "outputs": [],
   "source": []
  }
 ],
 "metadata": {
  "kernelspec": {
   "display_name": "ocr_reader",
   "language": "python",
   "name": "python3"
  },
  "language_info": {
   "codemirror_mode": {
    "name": "ipython",
    "version": 3
   },
   "file_extension": ".py",
   "mimetype": "text/x-python",
   "name": "python",
   "nbconvert_exporter": "python",
   "pygments_lexer": "ipython3",
   "version": "3.11.11"
  }
 },
 "nbformat": 4,
 "nbformat_minor": 2
}
