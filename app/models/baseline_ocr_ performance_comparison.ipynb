{
 "cells": [
  {
   "cell_type": "markdown",
   "metadata": {},
   "source": [
    "# Baseline Model 성능 비교\n",
    "\n",
    "Easy_ocr, paddle_ocr, tesseract_ocr 모델 비교 후 성능 비교\n",
    "\n",
    "- 대표적인 5개 이미지에 대한 성능 비교\n",
    "    - 다양한 글꼴, 크기, 이미지 품질 변화, 왜곡, 회전, 배경 복잡도에 따른 이미지 선정\n",
    "- 성능 비교 기준\n",
    "    - 글자 단위로 정확도 측정 ex) 책 → 책(O), 핵(X)\n",
    "    - 단어 단위로 정확도 측정\n",
    "    - 문장 단위로 정확도 측정\n"
   ]
  },
  {
   "cell_type": "code",
   "execution_count": 1,
   "metadata": {},
   "outputs": [],
   "source": [
    "import easyocr\n",
    "from paddleocr import PaddleOCR\n",
    "import pytesseract\n",
    "\n",
    "from PIL import Image "
   ]
  },
  {
   "cell_type": "markdown",
   "metadata": {},
   "source": [
    "## Easy_OCR"
   ]
  },
  {
   "cell_type": "code",
   "execution_count": null,
   "metadata": {},
   "outputs": [
    {
     "name": "stdout",
     "output_type": "stream",
     "text": [
      "[2025/03/06 15:25:03] ppocr DEBUG: Namespace(help='==SUPPRESS==', use_gpu=False, use_xpu=False, use_npu=False, use_mlu=False, ir_optim=True, use_tensorrt=False, min_subgraph_size=15, precision='fp32', gpu_mem=500, gpu_id=0, image_dir=None, page_num=0, det_algorithm='DB', det_model_dir='/Users/rohhail/.paddleocr/whl/det/ml/Multilingual_PP-OCRv3_det_infer', det_limit_side_len=960, det_limit_type='max', det_box_type='quad', det_db_thresh=0.3, det_db_box_thresh=0.6, det_db_unclip_ratio=1.5, max_batch_size=10, use_dilation=False, det_db_score_mode='fast', det_east_score_thresh=0.8, det_east_cover_thresh=0.1, det_east_nms_thresh=0.2, det_sast_score_thresh=0.5, det_sast_nms_thresh=0.2, det_pse_thresh=0, det_pse_box_thresh=0.85, det_pse_min_area=16, det_pse_scale=1, scales=[8, 16, 32], alpha=1.0, beta=1.0, fourier_degree=5, rec_algorithm='SVTR_LCNet', rec_model_dir='/Users/rohhail/.paddleocr/whl/rec/korean/korean_PP-OCRv4_rec_infer', rec_image_inverse=True, rec_image_shape='3, 48, 320', rec_batch_num=6, max_text_length=25, rec_char_dict_path='/opt/homebrew/anaconda3/envs/ocr_reader/lib/python3.11/site-packages/paddleocr/ppocr/utils/dict/korean_dict.txt', use_space_char=True, vis_font_path='./doc/fonts/simfang.ttf', drop_score=0.5, e2e_algorithm='PGNet', e2e_model_dir=None, e2e_limit_side_len=768, e2e_limit_type='max', e2e_pgnet_score_thresh=0.5, e2e_char_dict_path='./ppocr/utils/ic15_dict.txt', e2e_pgnet_valid_set='totaltext', e2e_pgnet_mode='fast', use_angle_cls=True, cls_model_dir='/Users/rohhail/.paddleocr/whl/cls/ch_ppocr_mobile_v2.0_cls_infer', cls_image_shape='3, 48, 192', label_list=['0', '180'], cls_batch_num=6, cls_thresh=0.9, enable_mkldnn=False, cpu_threads=10, use_pdserving=False, warmup=False, sr_model_dir=None, sr_image_shape='3, 32, 128', sr_batch_num=1, draw_img_save_dir='./inference_results', save_crop_res=False, crop_res_save_dir='./output', use_mp=False, total_process_num=1, process_id=0, benchmark=False, save_log_path='./log_output/', show_log=True, use_onnx=False, return_word_box=False, output='./output', table_max_len=488, table_algorithm='TableAttn', table_model_dir=None, merge_no_span_structure=True, table_char_dict_path=None, formula_algorithm='LaTeXOCR', formula_model_dir=None, formula_char_dict_path=None, formula_batch_num=1, layout_model_dir=None, layout_dict_path=None, layout_score_threshold=0.5, layout_nms_threshold=0.5, kie_algorithm='LayoutXLM', ser_model_dir=None, re_model_dir=None, use_visual_backbone=True, ser_dict_path='../train_data/XFUND/class_list_xfun.txt', ocr_order_method=None, mode='structure', image_orientation=False, layout=True, table=True, formula=False, ocr=True, recovery=False, recovery_to_markdown=False, use_pdf2docx_api=False, invert=False, binarize=False, alphacolor=(255, 255, 255), lang='korean', det=True, rec=True, type='ocr', savefile=False, ocr_version='PP-OCRv4', structure_version='PP-StructureV2')\n"
     ]
    }
   ],
   "source": [
    "easy_ocr = easyocr.Reader(['ko', 'en']) #esayocr 객체\n",
    "paddle_ocr = PaddleOCR(use_angle_cls=True, lang='korean') #paddleorc 객체\n"
   ]
  },
  {
   "cell_type": "code",
   "execution_count": 18,
   "metadata": {},
   "outputs": [],
   "source": [
    "image_path = '../data/book_cover_sample/images/'\n",
    "book_cover_images = ['책표지_총류_000002.jpg','책표지_총류_000085.jpg','책표지_총류_000102.jpg','책표지_총류_000292.jpg','책표지_총류_000586.jpg']\n",
    "# 5 images for testing"
   ]
  },
  {
   "cell_type": "code",
   "execution_count": 19,
   "metadata": {},
   "outputs": [
    {
     "name": "stdout",
     "output_type": "stream",
     "text": [
      "EASYOCR 0:\n",
      "----------------------------------------\n",
      "['실내립오', '유정식 지음']\n",
      "EASYOCR 1:\n",
      "----------------------------------------\n",
      "['난독 시대들 타파할', '독시의 기술', '혼자 위기부터', '붐클럽 참여까지', '실은 독서 따뉴업']\n",
      "EASYOCR 2:\n",
      "----------------------------------------\n",
      "['로근', '유산을', '찾아서', '근통의']\n",
      "EASYOCR 3:\n",
      "----------------------------------------\n",
      "['요:\\' t\" 5i\"', '2', 'Delitti', 'Del Mosaico', '단테일', '그짓이크 살인', \"고' TI\", '줄리오 레오니 장편소설 | 이현경 옮김', 'jairs', '스38']\n",
      "EASYOCR 4:\n",
      "----------------------------------------\n",
      "['토', '록', '어', '여', '팀', '책', '이상회 최험미 한미화 김VO US']\n"
     ]
    }
   ],
   "source": [
    "\n",
    "for i in range(len(book_cover_images)):\n",
    "    path = image_path + book_cover_images[i]\n",
    "    easy_results = easy_ocr.readtext(path)  # esayocr 글자 인식\n",
    "    easy_recognized_texts = [text for bbox, text, prob in easy_results] #esayocr 인식된 글자 출력\n",
    "\n",
    "    print(f\"EASYOCR {i}:\")\n",
    "    print(\"----------------------------------------\")\n",
    "    print(easy_recognized_texts)\n"
   ]
  },
  {
   "cell_type": "markdown",
   "metadata": {},
   "source": [
    "## Tesseract_OCR"
   ]
  },
  {
   "cell_type": "code",
   "execution_count": 21,
   "metadata": {},
   "outputs": [],
   "source": [
    "tessdata_dir = '/opt/homebrew/share/tessdata'  # 한국어 데이터 위치\n",
    "config = f'--tessdata-dir \"{tessdata_dir}\"' "
   ]
  },
  {
   "cell_type": "code",
   "execution_count": 22,
   "metadata": {},
   "outputs": [
    {
     "name": "stdout",
     "output_type": "stream",
     "text": [
      "Tesseract_OCR 0:\n",
      "----------------------------------------\n",
      "\n",
      "Tesseract_OCR 1:\n",
      "----------------------------------------\n",
      "난 독 시 대 를 타 파 할\n",
      "\n",
      "도 서 이 기 솔\n",
      "\n",
      "혼 자 읽 기 부 터\n",
      "\n",
      "밝 궤 AlAs} Sui ao\n",
      "\\ we ge 4) iN\n",
      "\n",
      "\n",
      "Tesseract_OCR 2:\n",
      "----------------------------------------\n",
      "\n",
      "Tesseract_OCR 3:\n",
      "----------------------------------------\n",
      "! Delitti\n",
      "\n",
      "\n",
      "Tesseract_OCR 4:\n",
      "----------------------------------------\n",
      "\n"
     ]
    }
   ],
   "source": [
    "\n",
    "for i in range(len(book_cover_images)):\n",
    "    path = image_path + book_cover_images[i]\n",
    "    img = Image.open(path)\n",
    "    tesseract_results = pytesseract.image_to_string(img, lang='eng+kor', config=config)  \n",
    "    tesseract_recognized_texts = tesseract_results\n",
    "\n",
    "    print(f\"Tesseract_OCR {i}:\")\n",
    "    print(\"----------------------------------------\")\n",
    "    print(tesseract_recognized_texts)\n"
   ]
  },
  {
   "cell_type": "markdown",
   "metadata": {},
   "source": [
    "## Paddle_OCR"
   ]
  },
  {
   "cell_type": "code",
   "execution_count": 25,
   "metadata": {},
   "outputs": [
    {
     "ename": "AssertionError",
     "evalue": "param lang must in dict_keys(['ch', 'en', 'korean', 'japan', 'chinese_cht', 'ta', 'te', 'ka', 'latin', 'arabic', 'cyrillic', 'devanagari']), but got en+korean",
     "output_type": "error",
     "traceback": [
      "\u001b[31m---------------------------------------------------------------------------\u001b[39m",
      "\u001b[31mAssertionError\u001b[39m                            Traceback (most recent call last)",
      "\u001b[36mCell\u001b[39m\u001b[36m \u001b[39m\u001b[32mIn[25]\u001b[39m\u001b[32m, line 1\u001b[39m\n\u001b[32m----> \u001b[39m\u001b[32m1\u001b[39m paddle_ocr = \u001b[43mPaddleOCR\u001b[49m\u001b[43m(\u001b[49m\u001b[43muse_angle_cls\u001b[49m\u001b[43m=\u001b[49m\u001b[38;5;28;43;01mTrue\u001b[39;49;00m\u001b[43m,\u001b[49m\u001b[43m \u001b[49m\u001b[43mlang\u001b[49m\u001b[43m=\u001b[49m\u001b[33;43m'\u001b[39;49m\u001b[33;43men+korean\u001b[39;49m\u001b[33;43m'\u001b[39;49m\u001b[43m)\u001b[49m \u001b[38;5;66;03m#객체 생성\u001b[39;00m\n",
      "\u001b[36mFile \u001b[39m\u001b[32m/opt/homebrew/anaconda3/envs/ocr_reader/lib/python3.11/site-packages/paddleocr/paddleocr.py:642\u001b[39m, in \u001b[36mPaddleOCR.__init__\u001b[39m\u001b[34m(self, **kwargs)\u001b[39m\n\u001b[32m    640\u001b[39m     logger.setLevel(logging.INFO)\n\u001b[32m    641\u001b[39m \u001b[38;5;28mself\u001b[39m.use_angle_cls = params.use_angle_cls\n\u001b[32m--> \u001b[39m\u001b[32m642\u001b[39m lang, det_lang = \u001b[43mparse_lang\u001b[49m\u001b[43m(\u001b[49m\u001b[43mparams\u001b[49m\u001b[43m.\u001b[49m\u001b[43mlang\u001b[49m\u001b[43m)\u001b[49m\n\u001b[32m    644\u001b[39m \u001b[38;5;66;03m# init model dir\u001b[39;00m\n\u001b[32m    645\u001b[39m det_model_config = get_model_config(\u001b[33m\"\u001b[39m\u001b[33mOCR\u001b[39m\u001b[33m\"\u001b[39m, params.ocr_version, \u001b[33m\"\u001b[39m\u001b[33mdet\u001b[39m\u001b[33m\"\u001b[39m, det_lang)\n",
      "\u001b[36mFile \u001b[39m\u001b[32m/opt/homebrew/anaconda3/envs/ocr_reader/lib/python3.11/site-packages/paddleocr/paddleocr.py:511\u001b[39m, in \u001b[36mparse_lang\u001b[39m\u001b[34m(lang)\u001b[39m\n\u001b[32m    508\u001b[39m \u001b[38;5;28;01melif\u001b[39;00m lang \u001b[38;5;129;01min\u001b[39;00m devanagari_lang:\n\u001b[32m    509\u001b[39m     lang = \u001b[33m\"\u001b[39m\u001b[33mdevanagari\u001b[39m\u001b[33m\"\u001b[39m\n\u001b[32m    510\u001b[39m \u001b[38;5;28;01massert\u001b[39;00m (\n\u001b[32m--> \u001b[39m\u001b[32m511\u001b[39m     lang \u001b[38;5;129;01min\u001b[39;00m MODEL_URLS[\u001b[33m\"\u001b[39m\u001b[33mOCR\u001b[39m\u001b[33m\"\u001b[39m][DEFAULT_OCR_MODEL_VERSION][\u001b[33m\"\u001b[39m\u001b[33mrec\u001b[39m\u001b[33m\"\u001b[39m]\n\u001b[32m    512\u001b[39m ), \u001b[33m\"\u001b[39m\u001b[33mparam lang must in \u001b[39m\u001b[38;5;132;01m{}\u001b[39;00m\u001b[33m, but got \u001b[39m\u001b[38;5;132;01m{}\u001b[39;00m\u001b[33m\"\u001b[39m.format(\n\u001b[32m    513\u001b[39m     MODEL_URLS[\u001b[33m\"\u001b[39m\u001b[33mOCR\u001b[39m\u001b[33m\"\u001b[39m][DEFAULT_OCR_MODEL_VERSION][\u001b[33m\"\u001b[39m\u001b[33mrec\u001b[39m\u001b[33m\"\u001b[39m].keys(), lang\n\u001b[32m    514\u001b[39m )\n\u001b[32m    515\u001b[39m \u001b[38;5;28;01mif\u001b[39;00m lang == \u001b[33m\"\u001b[39m\u001b[33mch\u001b[39m\u001b[33m\"\u001b[39m:\n\u001b[32m    516\u001b[39m     det_lang = \u001b[33m\"\u001b[39m\u001b[33mch\u001b[39m\u001b[33m\"\u001b[39m\n",
      "\u001b[31mAssertionError\u001b[39m: param lang must in dict_keys(['ch', 'en', 'korean', 'japan', 'chinese_cht', 'ta', 'te', 'ka', 'latin', 'arabic', 'cyrillic', 'devanagari']), but got en+korean"
     ]
    }
   ],
   "source": [
    "paddle_ocr = PaddleOCR(use_angle_cls=True, lang='en+korean') #객체 생성"
   ]
  },
  {
   "cell_type": "code",
   "execution_count": 27,
   "metadata": {},
   "outputs": [
    {
     "name": "stdout",
     "output_type": "stream",
     "text": [
      "[2025/03/06 15:47:59] ppocr DEBUG: dt_boxes num : 4, elapsed : 0.23248887062072754\n",
      "[2025/03/06 15:47:59] ppocr DEBUG: cls num  : 4, elapsed : 0.017142057418823242\n",
      "[2025/03/06 15:47:59] ppocr DEBUG: rec_res num  : 4, elapsed : 0.709036111831665\n",
      "Paddle_OCR 0:\n",
      "----------------------------------------\n",
      "[시나리오],\n",
      "[애],\n",
      "[유정식],\n",
      "[지음],\n",
      "[2025/03/06 15:48:00] ppocr DEBUG: dt_boxes num : 11, elapsed : 0.22488689422607422\n",
      "[2025/03/06 15:48:00] ppocr DEBUG: cls num  : 11, elapsed : 0.05093216896057129\n",
      "[2025/03/06 15:48:02] ppocr DEBUG: rec_res num  : 11, elapsed : 1.837109088897705\n",
      "Paddle_OCR 1:\n",
      "----------------------------------------\n",
      "[르프크],\n",
      "[난독],\n",
      "[시대를],\n",
      "[독서의기술],\n",
      "[혼자],\n",
      "[읽기부터],\n",
      "[북클럽],\n",
      "[참여까지],\n",
      "[독서],\n",
      "[뉴얼],\n",
      "[실전],\n",
      "[2025/03/06 15:48:02] ppocr DEBUG: dt_boxes num : 3, elapsed : 0.22202587127685547\n",
      "[2025/03/06 15:48:02] ppocr DEBUG: cls num  : 3, elapsed : 0.013337135314941406\n",
      "[2025/03/06 15:48:02] ppocr DEBUG: rec_res num  : 3, elapsed : 0.5240051746368408\n",
      "Paddle_OCR 2:\n",
      "----------------------------------------\n",
      "[로큰롤의],\n",
      "[유산을],\n",
      "[찾아서],\n",
      "[2025/03/06 15:48:03] ppocr DEBUG: dt_boxes num : 9, elapsed : 0.2369840145111084\n",
      "[2025/03/06 15:48:03] ppocr DEBUG: cls num  : 9, elapsed : 0.046106815338134766\n",
      "[2025/03/06 15:48:04] ppocr DEBUG: rec_res num  : 9, elapsed : 1.6808419227600098\n",
      "Paddle_OCR 3:\n",
      "----------------------------------------\n",
      "[-자구],\n",
      "[I Delitti],\n",
      "[Del],\n",
      "[Mosaico],\n",
      "[오자이크],\n",
      "[살인],\n",
      "[줄리오레오니장편소설],\n",
      "[이현경옮김],\n",
      "[2025/03/06 15:48:05] ppocr DEBUG: dt_boxes num : 14, elapsed : 0.2502272129058838\n",
      "[2025/03/06 15:48:05] ppocr DEBUG: cls num  : 14, elapsed : 0.062085628509521484\n",
      "[2025/03/06 15:48:07] ppocr DEBUG: rec_res num  : 14, elapsed : 2.3530659675598145\n",
      "Paddle_OCR 4:\n",
      "----------------------------------------\n",
      "[[0],\n",
      "[토록],\n",
      "[여],\n",
      "[뻔],\n",
      "[그],\n",
      "[림],\n",
      "[채],\n",
      "[이상희],\n",
      "[마흥],\n",
      "[희머],\n",
      "[김지은],\n",
      "[지음],\n"
     ]
    }
   ],
   "source": [
    "\n",
    "for i in range(len(book_cover_images)):\n",
    "    path = image_path + book_cover_images[i]\n",
    "    img = Image.open(path)\n",
    "    paddle_results = paddle_ocr.ocr(path, cls=True)\n",
    "    paddle_recognized_texts = paddle_results\n",
    "\n",
    "    print(f\"Paddle_OCR {i}:\")\n",
    "    print(\"----------------------------------------\")\n",
    "    for line in paddle_recognized_texts:\n",
    "        for word_info in line:\n",
    "            text, confidence = word_info[1]\n",
    "            print(f\"[{text}],\")\n",
    "\n"
   ]
  },
  {
   "cell_type": "markdown",
   "metadata": {},
   "source": [
    " ## OCR 성능 평가 지표\n",
    " - 글자 단위 \n",
    "    - 글자 존재를 인식 했는지 + 1\n",
    "    - 글자를 제대로 알맞게 인식 했는지 + 1 "
   ]
  },
  {
   "cell_type": "code",
   "execution_count": 35,
   "metadata": {},
   "outputs": [
    {
     "data": {
      "image/png": "[encoded data removed]",
      "text/plain": [
       "<Figure size 640x480 with 1 Axes>"
      ]
     },
     "metadata": {},
     "output_type": "display_data"
    }
   ],
   "source": [
    "import matplotlib.pyplot as plt\n",
    "import numpy as np\n",
    "\n",
    "fig, ax = plt.subplots()\n",
    "\n",
    "ocrs = ['easyOCR', 'tesseractOCR', 'paddleOCR']\n",
    "values = [147, 35, 170]\n",
    "colors = ['skyblue', 'salmon', 'lightgreen']  # 각 막대별 색상 리스트\n",
    "\n",
    "ax.bar(ocrs, values, color=colors)\n",
    "\n",
    "ax.set_ylabel('Character-level score')\n",
    "ax.set_title('Comparison of OCR Test Results (5 Book Covers)')\n",
    "\n",
    "plt.show()"
   ]
  },
  {
   "cell_type": "code",
   "execution_count": null,
   "metadata": {},
   "outputs": [],
   "source": []
  }
 ],
 "metadata": {
  "kernelspec": {
   "display_name": "ocr_reader",
   "language": "python",
   "name": "python3"
  },
  "language_info": {
   "codemirror_mode": {
    "name": "ipython",
    "version": 3
   },
   "file_extension": ".py",
   "mimetype": "text/x-python",
   "name": "python",
   "nbconvert_exporter": "python",
   "pygments_lexer": "ipython3",
   "version": "3.11.11"
  }
 },
 "nbformat": 4,
 "nbformat_minor": 2
}
